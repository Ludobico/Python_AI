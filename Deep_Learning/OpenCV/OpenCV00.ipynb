{
 "cells": [
  {
   "cell_type": "markdown",
   "metadata": {},
   "source": [
    "## OpenCV\n",
    "* 정의\n",
    "  * open source computer vision library의 약자로 오픈소스 컴퓨터 비전 라이브러리이다.\n",
    "  * 실시간 영상 처리에 중점을 둔 영상 처리 라이브러리로서, Apache 2.0 라이선스하에 배포되어 학술적 용도 외에도 상업적 용도로도 사용할 수 있다. 물체 인식, 얼굴 인식, 제스쳐 인식을 비롯해 자율주행 자동차, ocr 판독기, 불량 검사기 등에 활용할 수 있다.\n",
    "* OpenCV 설치\n",
    "  * opencv-python\n",
    "  * opencv-contrib-python\n",
    "  * opencv-python-headless\n",
    "  * opencv-contrib-python-headless\n",
    "* contrib가 포함된 패키지는 확장 모듈이 포함된 패키지이며, 추가 모듈이 포함된 openCV를 설치한다.\n",
    "* headless가 포함된 패키지는 GUI 라이브러리 종속성이 없어 서버 환경(Docker,Cloud)에서 사용할 수 있는 OpenCV를 설치한다.\n",
    "* 설치\n",
    "  * pip install opencv-python"
   ]
  },
  {
   "cell_type": "markdown",
   "metadata": {},
   "source": [
    "### 카메라 출력\n",
    "* 설명\n",
    "  * opencv를 이용하면 카메라 출력을 쉽게 사용할 수 있다. 카메라 출력은 카메라가 스트리밍 형태로 동작할 수 있을 때 사용한다.\n",
    "  * 즉, 저장된 이미지나 동영상 파일이 아니라 데이터를 실시간으로 받아오고 분석해야 하는 경우 카메라를 이용해 데이터를 처리한다.\n",
    "  * 카메라를 사용해 데이터를 받아오기 때문에 연결된 카메라의 장치 번호를 통해 받아오며, 사용중인 플랫폼에서 카메라에 대한 접근 권한이 허용되어야 한다.\n",
    "* 카메라 열기: cv2.VideoCapture(index, apiPreference=None) -> retval\n",
    "  * 내장 카메라 또는 외장 카메라 연결하여 VideoCapture 객체를 반환한다.\n",
    "  * 파라메터\n",
    "    * index: 카메라의 장치 번호. 노트북 카메라의 장치 번호는 0이다. 추가적인 외장 카메라를 사용하는 경우, 장치 번호가 1~n까지 순차적으로 할당한다.\n",
    "    * apiPreference : 선호하는 카메라 처리 방법을 지정한다.\n",
    "* 동영상 열기:cv2.VideoCapture(filename, apiPreference=None) -> retval\n",
    "  * 동영상 파일을 열어 VideoCapture 객체를 반환한다.\n",
    "  * 파라메터\n",
    "    * filename: 비디오 파일 이름, 정지 영상 시퀀스 등\n",
    "* cv2.VideoCapture.isOpened() -> retval\n",
    "  * videocapture 객체를 생성이 잘되었는지 확인하여 성공하면 true, 실패하면 false를 반환한다.\n",
    "* cv2.VideoCapture.read(image=None) -> retval, image\n",
    "  * 카메라,동영상을 성공적으로 열었으면 read()명령어를 통해 카메라, 동영상에서 프레임을 받아온다.\n",
    "  * 반환값\n",
    "    * retval : 성공하면 true, 실패하면 false\n",
    "    * image : 현재 프레임\n",
    "  * cv2.VideoCapture(propid) -> retval\n",
    "    * propid에 속성 상수를 입력하면 원하는 속성을 얻어올 수 있다.\n",
    "    * 파라메터\n",
    "      * prodID : 속성 상수. OpenCV 홈페이지에서 더 많은 속성 상수를 확인할 수 있다.\n",
    "  * cv2.VideoCapture.set(propid, value) -> retval\n",
    "    * 카메라의 속성 과 값을 설정한다.\n",
    "  * cv2.waitKey(delay=None)\n",
    "    * 키 입력 대기\n",
    "    * 파라메터\n",
    "      * delay: 지연 시간(밀리초 단위), 0이면 지속 대기\n",
    "  * cv2.imshow(winname, filename)\n",
    "    * 윈도우 창에 이미지 출력\n",
    "    * 파라메터\n",
    "      * winname : 윈도우 창의 이름\n",
    "      * filename : 윈도우 창에 할당할 이미지를 의미\n",
    "  * cv2.VideoCapture.release()\n",
    "    * 카메라 장치에서 받아온 메모리를 해제한다.\n",
    "  * cv2.destroyAllwindows()\n",
    "    * 모든 윈도우 창을 닫는다.\n",
    "  * cv2.destroyWindow(winname)\n",
    "    * winname을 가진 창만 닫는다."
   ]
  },
  {
   "cell_type": "markdown",
   "metadata": {},
   "source": [
    "## 캡쳐 및 녹화\n",
    "* 설명\n",
    "  * 영상이나 이미지를 캡쳐하거나 녹화하기 위해 사용하며 영상이나 이미지를 연속적 또는 순간적으로 캡쳐하거나 녹화할 수 있다.\n",
    "* cv2.VideoWriter_fourcc(*'코덱')\n",
    "* cv2.VideoWriter(filename, fourcc, fps, frameSize, iscolor=None)\n",
    "  * 영상을 저장한다.\n",
    "  * 파라메터\n",
    "    * filename:비디오 파일 이름\n",
    "    * fourcc: 코덱\n",
    "    * fps: 초당 프레임 수\n",
    "    * frameSize : 프레임 크기\n",
    "    * isColor : 컬러 영상이면 True, 아니면 False, default True"
   ]
  },
  {
   "cell_type": "markdown",
   "metadata": {},
   "source": [
    "### 이미지 출력\n",
    "* 설명\n",
    "  * opencv는 래스터 그래픽스 이미지 파일 포맷을 쉽게 불러올 수 있는 cv2.imread()라는 함수를 제공한다. 이 함수는 불러온 압축 해제된 이미지 데이터 구조에 필요한 메모리 할당과 같은 복잡한 작업을 처리하며, 파일 시그니처를 읽어 적절한 코덱을 설정한다.\n",
    "* cv2.imread(filename[, flags])\n",
    "  * 파일 경로의 이미지 파일을 플래그 설정에 따라 불러온다.\n",
    "  * 파라메터\n",
    "    * flags\n",
    "      * cv2.IMREAD_UNCHANGED 원본 사용\n",
    "      * cv2.IMREAD_GRAYSCALE 1 채널, 그레이스케일 적용\n",
    "      * cv2.IMREAD_COLOR 3 채널, BGR 이미지 사용\n"
   ]
  },
  {
   "cell_type": "markdown",
   "metadata": {},
   "source": [
    "## 비디오 출력\n",
    "* 설명\n",
    "  * 동영상 파일에서 순차적으로 프레임을 읽어 이미지의 형태로 출력한다. 동영상 파일을 읽으려면 컴퓨터에 동영상 코덱을 읽을 수 있는 라이브러리가 설치돼 있어야 한다.\n",
    "  "
   ]
  },
  {
   "cell_type": "markdown",
   "metadata": {},
   "source": []
  }
 ],
 "metadata": {
  "kernelspec": {
   "display_name": "Python 3.7.9 ('venv': venv)",
   "language": "python",
   "name": "python3"
  },
  "language_info": {
   "name": "python",
   "version": "3.7.9"
  },
  "orig_nbformat": 4,
  "vscode": {
   "interpreter": {
    "hash": "90ac13e2ffd2fb0a306c90461e8e391bceeb8ea777ddbefad745a048bb7968fd"
   }
  }
 },
 "nbformat": 4,
 "nbformat_minor": 2
}
