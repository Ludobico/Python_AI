{
 "cells": [
  {
   "cell_type": "code",
   "execution_count": 1,
   "metadata": {},
   "outputs": [],
   "source": [
    "import os\n",
    "import json\n",
    "import pandas as pd"
   ]
  },
  {
   "cell_type": "code",
   "execution_count": 9,
   "metadata": {},
   "outputs": [],
   "source": [
    "def counting(path):\n",
    "    cnt = 0\n",
    "    data_dir = path\n",
    "    \n",
    "    for path in os.listdir(data_dir):\n",
    "        if os.path.isfile(os.path.join(data_dir, path)):\n",
    "            cnt += 1\n",
    "    print('데이터 갯수 = ',cnt)\n",
    "    return cnt"
   ]
  },
  {
   "cell_type": "code",
   "execution_count": 10,
   "metadata": {},
   "outputs": [],
   "source": [
    "target_path = 'C:/Users/aischool/Desktop/AI Model/031.온라인 구어체 말뭉치 데이터/01.데이터/1.Training_220728_add/원천데이터/TS1/'\n",
    "target_path_list = os.listdir(target_path)\n"
   ]
  },
  {
   "cell_type": "code",
   "execution_count": 11,
   "metadata": {},
   "outputs": [
    {
     "data": {
      "text/plain": [
       "['건강_의학',\n",
       " '게임',\n",
       " '과학',\n",
       " '동물',\n",
       " '방송',\n",
       " '뷰티',\n",
       " '엔터테인먼트',\n",
       " '연애_결혼',\n",
       " '유머',\n",
       " '음식',\n",
       " '인터넷방송',\n",
       " '일상',\n",
       " '취미']"
      ]
     },
     "execution_count": 11,
     "metadata": {},
     "output_type": "execute_result"
    }
   ],
   "source": [
    "target_path_list\n"
   ]
  },
  {
   "cell_type": "code",
   "execution_count": 12,
   "metadata": {},
   "outputs": [
    {
     "name": "stdout",
     "output_type": "stream",
     "text": [
      "데이터 갯수 =  737\n",
      "데이터 갯수 =  1713\n",
      "데이터 갯수 =  909\n",
      "데이터 갯수 =  1229\n",
      "데이터 갯수 =  5065\n",
      "데이터 갯수 =  1373\n",
      "데이터 갯수 =  593\n",
      "데이터 갯수 =  932\n",
      "데이터 갯수 =  844\n",
      "데이터 갯수 =  981\n",
      "데이터 갯수 =  6071\n",
      "데이터 갯수 =  1203\n",
      "데이터 갯수 =  1385\n",
      "총 데이터 갯수 =  23035\n"
     ]
    }
   ],
   "source": [
    "total_data = 0\n",
    "for i in range(len(target_path_list)):\n",
    "    cnt = counting(target_path + target_path_list[i])\n",
    "    total_data += cnt\n",
    "print('총 데이터 갯수 = ',total_data)"
   ]
  },
  {
   "cell_type": "code",
   "execution_count": null,
   "metadata": {},
   "outputs": [],
   "source": []
  }
 ],
 "metadata": {
  "kernelspec": {
   "display_name": "Python 3.7.9 ('venv': venv)",
   "language": "python",
   "name": "python3"
  },
  "language_info": {
   "codemirror_mode": {
    "name": "ipython",
    "version": 3
   },
   "file_extension": ".py",
   "mimetype": "text/x-python",
   "name": "python",
   "nbconvert_exporter": "python",
   "pygments_lexer": "ipython3",
   "version": "3.7.9"
  },
  "orig_nbformat": 4,
  "vscode": {
   "interpreter": {
    "hash": "90ac13e2ffd2fb0a306c90461e8e391bceeb8ea777ddbefad745a048bb7968fd"
   }
  }
 },
 "nbformat": 4,
 "nbformat_minor": 2
}
