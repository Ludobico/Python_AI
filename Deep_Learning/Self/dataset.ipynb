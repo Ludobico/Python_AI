{
 "cells": [
  {
   "cell_type": "code",
   "execution_count": 2,
   "metadata": {},
   "outputs": [
    {
     "name": "stderr",
     "output_type": "stream",
     "text": [
      "  % Total    % Received % Xferd  Average Speed   Time    Time     Time  Current\n",
      "                                 Dload  Upload   Total   Spent    Left  Speed\n",
      "\n",
      "  0     0    0     0    0     0      0      0 --:--:-- --:--:-- --:--:--     0\n",
      "  0     0    0     0    0     0      0      0 --:--:--  0:00:01 --:--:--     0\n",
      "  0     0    0     0    0     0      0      0 --:--:--  0:00:02 --:--:--     0\n",
      "100   901  100   901    0     0    391      0  0:00:02  0:00:02 --:--:--   391\n",
      "\n",
      "  0     0    0     0    0     0      0      0 --:--:--  0:00:02 --:--:--     0\n",
      " 14 58.4M   14 8734k    0     0  2481k      0  0:00:24  0:00:03  0:00:21 8708k\n",
      " 33 58.4M   33 19.6M    0     0  4464k      0  0:00:13  0:00:04  0:00:09  9.8M\n",
      " 51 58.4M   51 29.8M    0     0  5556k      0  0:00:10  0:00:05  0:00:05  9.9M\n",
      " 69 58.4M   69 40.3M    0     0  6346k      0  0:00:09  0:00:06  0:00:03 10.0M\n",
      " 88 58.4M   88 51.6M    0     0  7037k      0  0:00:08  0:00:07  0:00:01 10.3M\n",
      "100 58.4M  100 58.4M    0     0  7172k      0  0:00:08  0:00:08 --:--:-- 10.3M\n",
      "  % Total    % Received % Xferd  Average Speed   Time    Time     Time  Current\n",
      "                                 Dload  Upload   Total   Spent    Left  Speed\n",
      "\n",
      "  0     0    0     0    0     0      0      0 --:--:-- --:--:-- --:--:--     0curl: (6) Could not resolve host: ;\n",
      "  % Total    % Received % Xferd  Average Speed   Time    Time     Time  Current\n",
      "                                 Dload  Upload   Total   Spent    Left  Speed\n",
      "\n",
      "  0     0    0     0    0     0      0      0 --:--:-- --:--:-- --:--:--     0\n",
      "  0     0    0     0    0     0      0      0 --:--:-- --:--:-- --:--:--     0\n",
      "  0     0    0     0    0     0      0      0 --:--:--  0:00:01 --:--:--     0\n",
      "  0     0    0     0    0     0      0      0 --:--:--  0:00:02 --:--:--     0curl: (6) Could not resolve host: unzip\n",
      "  % Total    % Received % Xferd  Average Speed   Time    Time     Time  Current\n",
      "                                 Dload  Upload   Total   Spent    Left  Speed\n",
      "\n",
      "  0     0    0     0    0     0      0      0 --:--:-- --:--:-- --:--:--     0curl: (6) Could not resolve host: roboflow.zip;\n",
      "  % Total    % Received % Xferd  Average Speed   Time    Time     Time  Current\n",
      "                                 Dload  Upload   Total   Spent    Left  Speed\n",
      "\n",
      "  0     0    0     0    0     0      0      0 --:--:-- --:--:-- --:--:--     0\n",
      "  0     0    0     0    0     0      0      0 --:--:-- --:--:-- --:--:--     0\n",
      "  0     0    0     0    0     0      0      0 --:--:--  0:00:01 --:--:--     0curl: (6) Could not resolve host: rm\n",
      "  % Total    % Received % Xferd  Average Speed   Time    Time     Time  Current\n",
      "                                 Dload  Upload   Total   Spent    Left  Speed\n",
      "\n",
      "  0     0    0     0    0     0      0      0 --:--:-- --:--:-- --:--:--     0curl: (6) Could not resolve host: roboflow.zip\n"
     ]
    }
   ],
   "source": [
    "!curl -L \"https://public.roboflow.com/ds/tkQNS1qFUg?key=7asMmrVCYF\" > roboflow.zip; unzip roboflow.zip; rm roboflow.zip"
   ]
  },
  {
   "cell_type": "code",
   "execution_count": 4,
   "metadata": {},
   "outputs": [
    {
     "name": "stderr",
     "output_type": "stream",
     "text": [
      "Cloning into 'yolov5'...\n"
     ]
    }
   ],
   "source": [
    "!git clone https://github.com/ultralytics/yolov5.git"
   ]
  },
  {
   "cell_type": "code",
   "execution_count": 2,
   "metadata": {},
   "outputs": [
    {
     "name": "stdout",
     "output_type": "stream",
     "text": [
      "c:\\project\\Yolo_self\\yolov5\n"
     ]
    }
   ],
   "source": [
    "%cd yolov5"
   ]
  },
  {
   "cell_type": "code",
   "execution_count": 6,
   "metadata": {},
   "outputs": [
    {
     "name": "stderr",
     "output_type": "stream",
     "text": [
      "ERROR: Exception:\n",
      "Traceback (most recent call last):\n",
      "  File \"c:\\program files\\python37\\lib\\site-packages\\pip\\_internal\\cli\\base_command.py\", line 188, in _main\n",
      "    status = self.run(options, args)\n",
      "  File \"c:\\program files\\python37\\lib\\site-packages\\pip\\_internal\\cli\\req_command.py\", line 185, in wrapper\n",
      "    return func(self, options, args)\n",
      "  File \"c:\\program files\\python37\\lib\\site-packages\\pip\\_internal\\commands\\install.py\", line 257, in run\n",
      "    isolated_mode=options.isolated_mode,\n",
      "  File \"c:\\program files\\python37\\lib\\site-packages\\pip\\_internal\\commands\\install.py\", line 599, in decide_user_install\n",
      "    if site_packages_writable(root=root_path, isolated=isolated_mode):\n",
      "  File \"c:\\program files\\python37\\lib\\site-packages\\pip\\_internal\\commands\\install.py\", line 544, in site_packages_writable\n",
      "    test_writable_dir(d) for d in set(get_lib_location_guesses(**kwargs))\n",
      "  File \"c:\\program files\\python37\\lib\\site-packages\\pip\\_internal\\commands\\install.py\", line 538, in get_lib_location_guesses\n",
      "    scheme = distutils_scheme('', *args, **kwargs)\n",
      "  File \"c:\\program files\\python37\\lib\\site-packages\\pip\\_internal\\locations.py\", line 109, in distutils_scheme\n",
      "    d.parse_config_files()\n",
      "  File \"c:\\program files\\python37\\lib\\distutils\\dist.py\", line 406, in parse_config_files\n",
      "    parser.read(filename)\n",
      "  File \"c:\\program files\\python37\\lib\\configparser.py\", line 696, in read\n",
      "    self._read(fp, filename)\n",
      "  File \"c:\\program files\\python37\\lib\\configparser.py\", line 1014, in _read\n",
      "    for lineno, line in enumerate(fp, start=1):\n",
      "UnicodeDecodeError: 'cp949' codec can't decode byte 0xe2 in position 1082: illegal multibyte sequence\n",
      "WARNING: You are using pip version 20.1.1; however, version 22.3 is available.\n",
      "You should consider upgrading via the 'c:\\program files\\python37\\python.exe -m pip install --upgrade pip' command.\n"
     ]
    }
   ],
   "source": [
    "# !pip install -r requirements.txt"
   ]
  },
  {
   "cell_type": "code",
   "execution_count": 13,
   "metadata": {},
   "outputs": [
    {
     "name": "stdout",
     "output_type": "stream",
     "text": [
      "c:\\\n"
     ]
    }
   ],
   "source": [
    "%cd ./"
   ]
  },
  {
   "cell_type": "code",
   "execution_count": 23,
   "metadata": {},
   "outputs": [
    {
     "name": "stdout",
     "output_type": "stream",
     "text": [
      "2971\n"
     ]
    }
   ],
   "source": [
    "from glob import glob\n",
    "img_list = glob('C:\\project\\Yolo_self\\dataset\\export\\images/*.jpg')\n",
    "print(len(img_list))\n"
   ]
  },
  {
   "cell_type": "code",
   "execution_count": 24,
   "metadata": {},
   "outputs": [
    {
     "name": "stdout",
     "output_type": "stream",
     "text": [
      "2376\n",
      "595\n"
     ]
    }
   ],
   "source": [
    "from sklearn.model_selection import train_test_split\n",
    "\n",
    "train_img_list,val_img_list = train_test_split(img_list, test_size=0.2, random_state=2000)\n",
    "print(len(train_img_list))\n",
    "print(len(val_img_list))"
   ]
  },
  {
   "cell_type": "code",
   "execution_count": 25,
   "metadata": {},
   "outputs": [],
   "source": [
    "with open('C:\\project\\Yolo_self\\dataset/train.txt', 'w') as f:\n",
    "    f.write('\\n'.join(train_img_list) + '\\n')\n",
    "\n",
    "with open('C:\\project\\Yolo_self\\dataset/val.txt', 'w') as f:\n",
    "    f.write('\\n'.join(val_img_list) + '\\n')"
   ]
  },
  {
   "cell_type": "code",
   "execution_count": 26,
   "metadata": {},
   "outputs": [
    {
     "name": "stdout",
     "output_type": "stream",
     "text": [
      "{'names': ['pistol'], 'nc': 1, 'train': './project/Yolo_self/dataset/train.txt', 'val': './project/Yolo_self/dataset/val.txt'}\n",
      "{'names': ['pistol'], 'nc': 1, 'train': 'C:\\\\project\\\\Yolo_self\\\\dataset/train.txt', 'val': 'C:\\\\project\\\\Yolo_self\\\\dataset/val.txt'}\n"
     ]
    }
   ],
   "source": [
    "import yaml\n",
    "with open('C:\\project\\Yolo_self\\dataset/data.yaml', 'r') as f:\n",
    "    data = yaml.safe_load(f)\n",
    "\n",
    "print(data)\n",
    "\n",
    "data['train'] = 'C:\\project\\Yolo_self\\dataset/train.txt'\n",
    "data['val'] = 'C:\\project\\Yolo_self\\dataset/val.txt'\n",
    "\n",
    "with open('C:\\project\\Yolo_self\\dataset\\data.yaml', 'w') as f:\n",
    "    yaml.dump(data, f)\n",
    "print(data)"
   ]
  },
  {
   "cell_type": "code",
   "execution_count": 27,
   "metadata": {},
   "outputs": [
    {
     "name": "stdout",
     "output_type": "stream",
     "text": [
      "C:\\project\\Yolo_self\\yolov5\n"
     ]
    }
   ],
   "source": [
    "%cd C:/project/Yolo_self/yolov5/"
   ]
  },
  {
   "cell_type": "code",
   "execution_count": 28,
   "metadata": {},
   "outputs": [],
   "source": [
    "!python train.py --img 416 --batch 16 --epochs 50 --data ../dataset/data.yaml --cfg ./models/yolov5s.yaml --weights yolov5s.pt --name gun_yolov5s_results"
   ]
  },
  {
   "cell_type": "code",
   "execution_count": null,
   "metadata": {},
   "outputs": [],
   "source": []
  }
 ],
 "metadata": {
  "kernelspec": {
   "display_name": "Python 3.7.9 64-bit",
   "language": "python",
   "name": "python3"
  },
  "language_info": {
   "codemirror_mode": {
    "name": "ipython",
    "version": 3
   },
   "file_extension": ".py",
   "mimetype": "text/x-python",
   "name": "python",
   "nbconvert_exporter": "python",
   "pygments_lexer": "ipython3",
   "version": "3.7.9"
  },
  "orig_nbformat": 4,
  "vscode": {
   "interpreter": {
    "hash": "5109d816b82be14675a6b11f8e0f0d2e80f029176ed3710d54e125caa8520dfd"
   }
  }
 },
 "nbformat": 4,
 "nbformat_minor": 2
}
