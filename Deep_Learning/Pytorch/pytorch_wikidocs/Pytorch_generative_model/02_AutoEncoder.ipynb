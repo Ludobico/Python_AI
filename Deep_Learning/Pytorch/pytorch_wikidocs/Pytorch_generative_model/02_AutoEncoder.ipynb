{
 "cells": [
  {
   "attachments": {},
   "cell_type": "markdown",
   "metadata": {},
   "source": [
    "먼저 필요한 라이브러리를 호출합니다."
   ]
  },
  {
   "cell_type": "code",
   "execution_count": 1,
   "metadata": {},
   "outputs": [],
   "source": [
    "import torch\n",
    "import torch.nn as nn\n",
    "import torch.optim as optim\n",
    "from torch.utils.data import Dataset, DataLoader\n",
    "import matplotlib.pyplot as plt\n",
    "\n",
    "import torchvision.datasets as datasets\n",
    "import torchvision.transforms as transforms\n",
    "\n",
    "device = torch.device('cuda' if torch.cuda.is_available() else 'cpu')"
   ]
  },
  {
   "attachments": {},
   "cell_type": "markdown",
   "metadata": {},
   "source": [
    "이 예제는 케라스에 내장되어 제공하는 MNIST 데이터셋을 사용합니다.\n",
    "\n",
    "MNIST 데이터셋을 내려받은 후 텐서로 변경하고 데이터로더에 전달합니다."
   ]
  },
  {
   "cell_type": "code",
   "execution_count": 2,
   "metadata": {},
   "outputs": [
    {
     "name": "stdout",
     "output_type": "stream",
     "text": [
      "Downloading http://yann.lecun.com/exdb/mnist/train-images-idx3-ubyte.gz\n",
      "Downloading http://yann.lecun.com/exdb/mnist/train-images-idx3-ubyte.gz to ./MNIST_DATA\\MNIST\\raw\\train-images-idx3-ubyte.gz\n"
     ]
    },
    {
     "name": "stderr",
     "output_type": "stream",
     "text": [
      "100.0%\n"
     ]
    },
    {
     "name": "stdout",
     "output_type": "stream",
     "text": [
      "Extracting ./MNIST_DATA\\MNIST\\raw\\train-images-idx3-ubyte.gz to ./MNIST_DATA\\MNIST\\raw\n",
      "\n",
      "Downloading http://yann.lecun.com/exdb/mnist/train-labels-idx1-ubyte.gz\n"
     ]
    },
    {
     "name": "stderr",
     "output_type": "stream",
     "text": [
      "100.0%"
     ]
    },
    {
     "name": "stdout",
     "output_type": "stream",
     "text": [
      "Downloading http://yann.lecun.com/exdb/mnist/train-labels-idx1-ubyte.gz to ./MNIST_DATA\\MNIST\\raw\\train-labels-idx1-ubyte.gz\n",
      "Extracting ./MNIST_DATA\\MNIST\\raw\\train-labels-idx1-ubyte.gz to ./MNIST_DATA\\MNIST\\raw\n",
      "\n",
      "Downloading http://yann.lecun.com/exdb/mnist/t10k-images-idx3-ubyte.gz\n",
      "Downloading http://yann.lecun.com/exdb/mnist/t10k-images-idx3-ubyte.gz to ./MNIST_DATA\\MNIST\\raw\\t10k-images-idx3-ubyte.gz\n"
     ]
    },
    {
     "name": "stderr",
     "output_type": "stream",
     "text": [
      "\n",
      "100.0%\n"
     ]
    },
    {
     "name": "stdout",
     "output_type": "stream",
     "text": [
      "Extracting ./MNIST_DATA\\MNIST\\raw\\t10k-images-idx3-ubyte.gz to ./MNIST_DATA\\MNIST\\raw\n",
      "\n",
      "Downloading http://yann.lecun.com/exdb/mnist/t10k-labels-idx1-ubyte.gz\n",
      "Downloading http://yann.lecun.com/exdb/mnist/t10k-labels-idx1-ubyte.gz to ./MNIST_DATA\\MNIST\\raw\\t10k-labels-idx1-ubyte.gz\n"
     ]
    },
    {
     "name": "stderr",
     "output_type": "stream",
     "text": [
      "100.0%"
     ]
    },
    {
     "name": "stdout",
     "output_type": "stream",
     "text": [
      "Extracting ./MNIST_DATA\\MNIST\\raw\\t10k-labels-idx1-ubyte.gz to ./MNIST_DATA\\MNIST\\raw\n",
      "\n"
     ]
    },
    {
     "name": "stderr",
     "output_type": "stream",
     "text": [
      "\n"
     ]
    }
   ],
   "source": [
    "transform = transforms.Compose([\n",
    "    transforms.ToTensor()\n",
    "])\n",
    "\n",
    "train_dataset = datasets.MNIST(\n",
    "    root='./MNIST_DATA',\n",
    "    train=True,\n",
    "    transform=transform,\n",
    "    download=True\n",
    ")\n",
    "\n",
    "test_dataset = datasets.MNIST(\n",
    "    root='./MNIST_DATA',\n",
    "    train=False,\n",
    "    transform=transform,\n",
    "    download=True\n",
    ")\n",
    "\n",
    "train_loader = DataLoader(\n",
    "    train_dataset,\n",
    "    batch_size=128,\n",
    "    shuffle=True,\n",
    "    num_workers=4,\n",
    "    pin_memory=False\n",
    ")\n",
    "\n",
    "test_loader = DataLoader(\n",
    "    test_dataset,\n",
    "    batch_size=32,\n",
    "    shuffle=False,\n",
    "    num_workers=4\n",
    ")"
   ]
  },
  {
   "attachments": {},
   "cell_type": "markdown",
   "metadata": {},
   "source": [
    "`데이터로더`는 전체 데이터셋을 작은 단위로 쪼개서 메모리로 가져올 때 사용합니다. 데이터로더에서 사용하는 파라미터는 다음과 같습니다.\n",
    "\n",
    "* 첫 번째 파라미터 : 훈련 데이터셋\n",
    "\n",
    "* `batch_size` : 메모리로 한 번에 불러올 데이터의 크기\n",
    "\n",
    "* `num_workers` : 데이터를 불러올 때 몇 개의 프로세스를 사용할지 지정하는 부분으로 병렬로 데이터를 불러오겠다는 의미입니다. 일반적으로 GPU를 사용할 때 많이 사용하는 파라미터입니다. `너무 많은 값을 할당하면 오버헤드`가 발생할 수 있고, 작게 할당하면 좋은 성능을 기대할 수 없으므로 적절한 값을 지정해야 합니다. 일반적으로 `4 * GPU 개수`를 지정하지만 모든 상황에 적합한 것은 아니므로 주의해서 사용할 필요가 있습니다.\n",
    "\n",
    "* `pin_memory` : CPU를 사용하다 GPU로 전환할 때 속도 향상을 위해 사용합니다. 따라서 모델 훈련과정에서 CPU나 GPU만 사용한다면 True로 지정할 필요가 없는 파라미터입니다. pin_memory를 True로 지정하면 훈련에 사용할 데이터셋을 GPU에 미리 불러와서 학습시키기 때문에 속도가 향상됩니다.\n"
   ]
  },
  {
   "attachments": {},
   "cell_type": "markdown",
   "metadata": {},
   "source": [
    "이제 모델의 네트워크를 생성해 볼 텐데 인코더와 디코더를 사용하여 간단한 오토인코더를 만들어 봅시다. 이때 `데이터셋을 저차원으로 압축하는 것을 인코더`라고 하며, 압축한 것을 다시 `원래의 차원으로 복원하는 것을 디코더`라고 합니다. 따라서 인코더와 디코더에서 사용하는 네트워크 계층은 같아야 합니다."
   ]
  },
  {
   "cell_type": "code",
   "execution_count": 3,
   "metadata": {},
   "outputs": [],
   "source": [
    "## 네트워크(신경망) 생성\n",
    "class Encoder(nn.Module):\n",
    "    def __init__(self, encoded_space_dim, fc2_input_dim):\n",
    "        super().__init__()\n",
    "\n",
    "        self.encoder_cnn = nn.Sequential(\n",
    "            nn.Conv2d(1,8,3, stride=2, padding=1),\n",
    "            nn.ReLU(True),\n",
    "            nn.Conv2d(8, 16, 3, stride=2, padding=1),\n",
    "            nn.BatchNorm2d(16),\n",
    "            nn.ReLU(True),\n",
    "            nn.Conv2d(16, 32, 3, stride=2, padding=0),\n",
    "            nn.ReLU(True)\n",
    "        )\n",
    "\n",
    "        self.flatten = nn.Flatten(start_dim=1) # 완전연결층\n",
    "        self.encoder_lin = nn.Sequential(\n",
    "            nn.Linear(3 * 3 * 32, 128),\n",
    "            nn.ReLU(True),\n",
    "            nn.Linear(128, encoded_space_dim) # 출력 계층\n",
    "        )\n",
    "\n",
    "    def forward(self, x):\n",
    "        x = self.encoder_cnn(x)\n",
    "        x = self.flatten(x)\n",
    "        x = self.encoder_lin(x)\n",
    "        return x\n",
    "    \n",
    "class Decoder(nn.Module):\n",
    "    def __init__(self, encoded_space_dim, fc2_input_dim):\n",
    "        super().__init__()\n",
    "        self.decoder_lin = nn.Sequential(\n",
    "            nn.Linear(encoded_space_dim, 128),\n",
    "            nn.ReLU(True),\n",
    "            nn.Linear(128, 3 * 3 * 32),\n",
    "            nn.ReLU(True)\n",
    "        )\n",
    "\n",
    "        self.unflatten = nn.Unflatten(dim=1, unflattened_size=(32, 3, 3)) # 인코더의 완전 연결층에 대응\n",
    "        self.decoder_conv = nn.Sequential(\n",
    "            nn.ConvTranspose2d(32, 16, 3, stride=2, output_padding=0),\n",
    "            nn.BatchNorm2d(16),\n",
    "            nn.ReLU(True),\n",
    "            nn.ConvTranspose2d(16, 8, 3, stride=2, padding=1, output_padding=1),\n",
    "            nn.BatchNorm2d(8),\n",
    "            nn.ReLU(True),\n",
    "            nn.ConvTranspose2d(8, 1, 3, stride=2, padding=1, output_padding=1) # 인코더 합성곱층에 대응\n",
    "        )\n",
    "\n",
    "    def forward(self, x):\n",
    "        x = self.decoder_lin(x)\n",
    "        x = self.unflatten(x)\n",
    "        x = self.decoder_conv(x)\n",
    "        x = torch.sigmoid(x)\n",
    "        return x"
   ]
  },
  {
   "attachments": {},
   "cell_type": "markdown",
   "metadata": {},
   "source": [
    "인코더와 디코더 객체를 초기화하고, 모델의 훈련 과정에 필요한 손실 함수와 옵티마이저를 지정합니다."
   ]
  },
  {
   "cell_type": "code",
   "execution_count": 4,
   "metadata": {},
   "outputs": [],
   "source": [
    "encoder = Encoder(encoded_space_dim=4, fc2_input_dim=128)\n",
    "decoder = Decoder(encoded_space_dim=4, fc2_input_dim=128)\n",
    "encoder.to(device=device)\n",
    "decoder.to(device=device)\n",
    "\n",
    "params_to_optimize = [\n",
    "    {'params': encoder.parameters()},\n",
    "    {'params': decoder.parameters()}\n",
    "] # 인코더와 디코더에서 사용할 파라미터를 다르게 지정\n",
    "\n",
    "optim = torch.optim.Adam(params_to_optimize, lr=1e-3, weight_decay=1e-05)\n",
    "loss_fn = torch.nn.MSELoss()"
   ]
  },
  {
   "attachments": {},
   "cell_type": "markdown",
   "metadata": {},
   "source": [
    "오토인코더에서 가장 널리 사용되는 손실 함수는 `평균 제곱 오차`와 `이진 크로스 엔트로피`입니다. 입력 값이(0,1) 범위에 있으면 이진 크로스 엔트로피를 사용하고, 그렇지 않으면 평균 제곱 오차를 사용합니다.\n",
    "\n",
    "옵티마이저는 아담을 사용했지만 `RMSProp` 또는 `adadelta` 같은 옵티마이저를 이용하여 성능을 비교해 보는 것도 학습에 도움이 많이 되니, 옵션을 변경하여 테스트를 진행해 보기 바랍니다."
   ]
  },
  {
   "attachments": {},
   "cell_type": "markdown",
   "metadata": {},
   "source": [
    "다음은 앞에서 생성한 모델 네트워크의 구조를 보여 줍니다."
   ]
  },
  {
   "cell_type": "code",
   "execution_count": 5,
   "metadata": {},
   "outputs": [
    {
     "name": "stdout",
     "output_type": "stream",
     "text": [
      "Decoder(\n",
      "  (decoder_lin): Sequential(\n",
      "    (0): Linear(in_features=4, out_features=128, bias=True)\n",
      "    (1): ReLU(inplace=True)\n",
      "    (2): Linear(in_features=128, out_features=288, bias=True)\n",
      "    (3): ReLU(inplace=True)\n",
      "  )\n",
      "  (unflatten): Unflatten(dim=1, unflattened_size=(32, 3, 3))\n",
      "  (decoder_conv): Sequential(\n",
      "    (0): ConvTranspose2d(32, 16, kernel_size=(3, 3), stride=(2, 2))\n",
      "    (1): BatchNorm2d(16, eps=1e-05, momentum=0.1, affine=True, track_running_stats=True)\n",
      "    (2): ReLU(inplace=True)\n",
      "    (3): ConvTranspose2d(16, 8, kernel_size=(3, 3), stride=(2, 2), padding=(1, 1), output_padding=(1, 1))\n",
      "    (4): BatchNorm2d(8, eps=1e-05, momentum=0.1, affine=True, track_running_stats=True)\n",
      "    (5): ReLU(inplace=True)\n",
      "    (6): ConvTranspose2d(8, 1, kernel_size=(3, 3), stride=(2, 2), padding=(1, 1), output_padding=(1, 1))\n",
      "  )\n",
      ")\n"
     ]
    }
   ],
   "source": [
    "print(decoder)"
   ]
  },
  {
   "cell_type": "code",
   "execution_count": 6,
   "metadata": {},
   "outputs": [
    {
     "name": "stdout",
     "output_type": "stream",
     "text": [
      "Encoder(\n",
      "  (encoder_cnn): Sequential(\n",
      "    (0): Conv2d(1, 8, kernel_size=(3, 3), stride=(2, 2), padding=(1, 1))\n",
      "    (1): ReLU(inplace=True)\n",
      "    (2): Conv2d(8, 16, kernel_size=(3, 3), stride=(2, 2), padding=(1, 1))\n",
      "    (3): BatchNorm2d(16, eps=1e-05, momentum=0.1, affine=True, track_running_stats=True)\n",
      "    (4): ReLU(inplace=True)\n",
      "    (5): Conv2d(16, 32, kernel_size=(3, 3), stride=(2, 2))\n",
      "    (6): ReLU(inplace=True)\n",
      "  )\n",
      "  (flatten): Flatten(start_dim=1, end_dim=-1)\n",
      "  (encoder_lin): Sequential(\n",
      "    (0): Linear(in_features=288, out_features=128, bias=True)\n",
      "    (1): ReLU(inplace=True)\n",
      "    (2): Linear(in_features=128, out_features=4, bias=True)\n",
      "  )\n",
      ")\n"
     ]
    }
   ],
   "source": [
    "print(encoder)"
   ]
  },
  {
   "attachments": {},
   "cell_type": "markdown",
   "metadata": {},
   "source": [
    "모델 학습에 대한 함수를 생성합니다."
   ]
  },
  {
   "cell_type": "code",
   "execution_count": 7,
   "metadata": {},
   "outputs": [],
   "source": [
    "import numpy as np\n",
    "\n",
    "def train_epoch(encoder, decoder, device, dataloader, loss_fn, optimizer, noise_factor=0.3):\n",
    "    encoder.train() # 인코더 훈련\n",
    "    decoder.train() # 디코더 훈련\n",
    "    train_loss = []\n",
    "\n",
    "    for image_batch, _ in dataloader: # 훈련 데이터셋을 이용하여 모델 학습(비지도 학습으로 레이블은 필요하지 않습니다.)\n",
    "        image_noisy = add_noise(image_batch, noise_factor)\n",
    "        image_noisy = image_noisy.to(device) # 데이터셋이 CPU/GPU 장치를 사용하도록 지정\n",
    "        encoded_data = encoder(image_noisy) # 노이즈 데이터를 인코더의 입력으로 사용\n",
    "        decoded_data = decoder(encoded_data) # 인코더 출력을 디코더의 입력으로 사용\n",
    "        loss = loss_fn(decoded_data, image_noisy)\n",
    "        optimizer.zero_grad()\n",
    "        loss.backward()\n",
    "        optimizer.step()\n",
    "        train_loss.append(loss.detach().cpu().numpy())\n",
    "    return np.mean(train_loss)"
   ]
  },
  {
   "attachments": {},
   "cell_type": "markdown",
   "metadata": {},
   "source": [
    "이제 모델을 검증(테스트)하기 위한 함수를 생성합니다."
   ]
  },
  {
   "cell_type": "code",
   "execution_count": 8,
   "metadata": {},
   "outputs": [],
   "source": [
    "def test_epoch(encoder, decoder, device, dataloader, loss_fn, noise_factor=0.3):\n",
    "    encoder.eval()\n",
    "    decoder.eval()\n",
    "\n",
    "    with torch.no_grad():\n",
    "        conc_out = [] # 각 배치에 대한 출력을 저장하기 위해 리스트 형식의 변수 정의\n",
    "        conc_label = []\n",
    "\n",
    "        for image_batch, _ in dataloader:\n",
    "            image_batch = image_batch.to(device)\n",
    "            encoded_data = encoder(image_batch)\n",
    "            decoded_data = decoder(encoded_data)\n",
    "            conc_out.append(decoded_data.cpu())\n",
    "            conc_label.append(image_batch.cpu())\n",
    "        conc_out = torch.cat(conc_out) # 리스트 형식으로 저장된 모든 값을 하나의 텐서로 생성\n",
    "\n",
    "        conc_label = torch.cat(conc_label)\n",
    "\n",
    "        val_loss = loss_fn(conc_out, conc_label) # 손실 함수를 이용하여 오차 계산\n",
    "    return val_loss.data"
   ]
  },
  {
   "attachments": {},
   "cell_type": "markdown",
   "metadata": {},
   "source": [
    "입력 데이터셋에 추가할 노이즈를 생성하기 위한 함수를 정의합니다."
   ]
  },
  {
   "cell_type": "code",
   "execution_count": 9,
   "metadata": {},
   "outputs": [],
   "source": [
    "def add_noise(inputs, noise_factor=0.3):\n",
    "    noisy = inputs + torch.rand_like(inputs) * noise_factor\n",
    "    noisy = torch.clip(noisy, 0., 1.)\n",
    "    return noisy"
   ]
  },
  {
   "attachments": {},
   "cell_type": "markdown",
   "metadata": {},
   "source": [
    "* `torch.randn_like(inputs)`는 입력(inputs)과 동일한 크기의 노이즈 텐서를 생성하고자 할 때 사용합니다.\n",
    "\n",
    "* `torch.clip`은 데이터 값의 범위를 조정할 때 사용합니다. `torch.clip`에서 사용하는 파라미터는 다음과 같은 의미를 같습니다.  \n",
    "\n",
    "    ![](../Static/691.jpg)  \n",
    "\n",
    "    * 첫 번째 파라미터: 값의 범위를 조정할 데이터셋\n",
    "\n",
    "    * 두 번째 파라미터 : 데이터의 범위 중 최솟값을 의미하며 예제에서는 0을 사용했습니다.\n",
    "\n",
    "    * 세 번째 파라미터 : 데이터의 범위 중 최댓값을 의미하며 예제에서는 1을 사용했습니다.\n",
    "\n",
    "에포크가 진행될수록 노이즈 데이터로 새로운 이미지가 어떻게 만들어지는지 확인하기 위한 함수를 생성합니다. 시각화하여 보여 줄 이미지는 원래의 이미지, 노이즈가 적용되어 손상된 데이터(이미지), 노이즈 데이터를 이용하여 새롭게 생성된 데이터(이미지)입니다."
   ]
  },
  {
   "cell_type": "code",
   "execution_count": 11,
   "metadata": {},
   "outputs": [],
   "source": [
    "# 이미지 시각화\n",
    "def plot_ae_outputs(encoder, decoder, n=5, noise_factor=0.3):\n",
    "    plt.figure(figsize=(10, 4.5))\n",
    "    for i in range(n):\n",
    "        ax = plt.subplot(3, n, i+1) #subplot에서 사용하는 파라미터는 (행, 열, 인덱스)입니다. 3 x 5 형태의 이미지가 출력됩니다.\n",
    "        img = test_dataset[i][0].unsqueeze(0)\n",
    "        image_noisy = add_noise(img, noise_factor)\n",
    "        image_noisy = image_noisy.to(device=device)\n",
    "\n",
    "        encoder.eval()\n",
    "        decoder.eval()\n",
    "\n",
    "        with torch.no_grad():\n",
    "            rec_img = decoder(encoder(image_noisy))\n",
    "\n",
    "        plt.imshow(img.cpu().squeeze().numpy(), cmap='gist_gray') # 테스트 데이터셋을 출력\n",
    "\n",
    "        ax.get_xaxis().set_visible(False) # set_visible(False)는 그래프의 눈금을 표시하지 않겠다는 의미\n",
    "        ax.get_yaxis().set_visible(False)\n",
    "\n",
    "        if i == n // 2:\n",
    "            ax.set_title('원래 이미지')\n",
    "            ax = plt.subplot(3, n, i + 1 + n)\n",
    "            plt.imshow(image_noisy.cpu().squeeze().numpy(), cmap='gist_gray') # 테스트 데이터셋에 노이즈가 적용된 결과를 출력\n",
    "            ax.get_xaxis().set_visible(False)\n",
    "            ax.get_yaxis().set_visible(False)\n",
    "\n",
    "        if i == n // 2:\n",
    "            ax.set_title('노이즈가 적용되어 손상된 이미지')\n",
    "            ax = plt.subplot(3, n, i + 1 + n + n)\n",
    "            plt.imshow(rec_img.cpu().squeeze().numpy(), cmap='gist_gray') # 노이즈가 추가된 이미지를 인코더와 디코더에 적용한 결과를 출력\n",
    "            ax.get_xaxis().set_visible(False)\n",
    "            ax.get_yaxis().set_visible(False)\n",
    "        if i == n//2:\n",
    "            ax.set_title('재구성된 이미지')\n",
    "\n",
    "    plt.subplots_adjust(left=0.1,\n",
    "                        bottom=0.1,\n",
    "                        right=0.7,\n",
    "                        top=0.9,\n",
    "                        wspace=0.3,\n",
    "                        hspace=0.3)\n",
    "    plt.show()\n"
   ]
  },
  {
   "attachments": {},
   "cell_type": "markdown",
   "metadata": {},
   "source": [
    "앞에서 정의해 두었던 함수를 이용하여 모델을 학습시킵니다. 이때 학습 과정 중에 생성된 이미지도 확인해 보겠습니다."
   ]
  },
  {
   "cell_type": "code",
   "execution_count": 12,
   "metadata": {},
   "outputs": [
    {
     "name": "stdout",
     "output_type": "stream",
     "text": [
      "EPOCH 1/30\n",
      "EPOCH 2/30\n",
      "EPOCH 3/30\n",
      "EPOCH 4/30\n",
      "EPOCH 5/30\n",
      "EPOCH 6/30\n",
      "EPOCH 7/30\n",
      "EPOCH 8/30\n",
      "EPOCH 9/30\n",
      "EPOCH 10/30\n",
      "EPOCH 11/30\n",
      "EPOCH 12/30\n",
      "EPOCH 13/30\n",
      "EPOCH 14/30\n",
      "EPOCH 15/30\n",
      "EPOCH 16/30\n",
      "EPOCH 17/30\n",
      "EPOCH 18/30\n",
      "EPOCH 19/30\n",
      "EPOCH 20/30\n",
      "EPOCH 21/30\n",
      "EPOCH 22/30\n",
      "EPOCH 23/30\n",
      "EPOCH 24/30\n",
      "EPOCH 25/30\n",
      "EPOCH 26/30\n",
      "EPOCH 27/30\n",
      "EPOCH 28/30\n",
      "EPOCH 29/30\n",
      "EPOCH 30/30\n",
      "\n",
      " EPOCH 30/30 \t train loss 0.027 \t val loss 0.044\n"
     ]
    },
    {
     "name": "stderr",
     "output_type": "stream",
     "text": [
      "c:\\Users\\aqs45\\OneDrive\\바탕 화면\\repo\\Python_AI\\venv\\lib\\site-packages\\IPython\\core\\pylabtools.py:152: UserWarning: Glyph 50896 (\\N{HANGUL SYLLABLE WEON}) missing from current font.\n",
      "  fig.canvas.print_figure(bytes_io, **kw)\n",
      "c:\\Users\\aqs45\\OneDrive\\바탕 화면\\repo\\Python_AI\\venv\\lib\\site-packages\\IPython\\core\\pylabtools.py:152: UserWarning: Glyph 47000 (\\N{HANGUL SYLLABLE RAE}) missing from current font.\n",
      "  fig.canvas.print_figure(bytes_io, **kw)\n",
      "c:\\Users\\aqs45\\OneDrive\\바탕 화면\\repo\\Python_AI\\venv\\lib\\site-packages\\IPython\\core\\pylabtools.py:152: UserWarning: Glyph 51060 (\\N{HANGUL SYLLABLE I}) missing from current font.\n",
      "  fig.canvas.print_figure(bytes_io, **kw)\n",
      "c:\\Users\\aqs45\\OneDrive\\바탕 화면\\repo\\Python_AI\\venv\\lib\\site-packages\\IPython\\core\\pylabtools.py:152: UserWarning: Glyph 48120 (\\N{HANGUL SYLLABLE MI}) missing from current font.\n",
      "  fig.canvas.print_figure(bytes_io, **kw)\n",
      "c:\\Users\\aqs45\\OneDrive\\바탕 화면\\repo\\Python_AI\\venv\\lib\\site-packages\\IPython\\core\\pylabtools.py:152: UserWarning: Glyph 51648 (\\N{HANGUL SYLLABLE JI}) missing from current font.\n",
      "  fig.canvas.print_figure(bytes_io, **kw)\n",
      "c:\\Users\\aqs45\\OneDrive\\바탕 화면\\repo\\Python_AI\\venv\\lib\\site-packages\\IPython\\core\\pylabtools.py:152: UserWarning: Glyph 45432 (\\N{HANGUL SYLLABLE NO}) missing from current font.\n",
      "  fig.canvas.print_figure(bytes_io, **kw)\n",
      "c:\\Users\\aqs45\\OneDrive\\바탕 화면\\repo\\Python_AI\\venv\\lib\\site-packages\\IPython\\core\\pylabtools.py:152: UserWarning: Glyph 51592 (\\N{HANGUL SYLLABLE JEU}) missing from current font.\n",
      "  fig.canvas.print_figure(bytes_io, **kw)\n",
      "c:\\Users\\aqs45\\OneDrive\\바탕 화면\\repo\\Python_AI\\venv\\lib\\site-packages\\IPython\\core\\pylabtools.py:152: UserWarning: Glyph 44032 (\\N{HANGUL SYLLABLE GA}) missing from current font.\n",
      "  fig.canvas.print_figure(bytes_io, **kw)\n",
      "c:\\Users\\aqs45\\OneDrive\\바탕 화면\\repo\\Python_AI\\venv\\lib\\site-packages\\IPython\\core\\pylabtools.py:152: UserWarning: Glyph 51201 (\\N{HANGUL SYLLABLE JEOG}) missing from current font.\n",
      "  fig.canvas.print_figure(bytes_io, **kw)\n",
      "c:\\Users\\aqs45\\OneDrive\\바탕 화면\\repo\\Python_AI\\venv\\lib\\site-packages\\IPython\\core\\pylabtools.py:152: UserWarning: Glyph 50857 (\\N{HANGUL SYLLABLE YONG}) missing from current font.\n",
      "  fig.canvas.print_figure(bytes_io, **kw)\n",
      "c:\\Users\\aqs45\\OneDrive\\바탕 화면\\repo\\Python_AI\\venv\\lib\\site-packages\\IPython\\core\\pylabtools.py:152: UserWarning: Glyph 46104 (\\N{HANGUL SYLLABLE DOE}) missing from current font.\n",
      "  fig.canvas.print_figure(bytes_io, **kw)\n",
      "c:\\Users\\aqs45\\OneDrive\\바탕 화면\\repo\\Python_AI\\venv\\lib\\site-packages\\IPython\\core\\pylabtools.py:152: UserWarning: Glyph 50612 (\\N{HANGUL SYLLABLE EO}) missing from current font.\n",
      "  fig.canvas.print_figure(bytes_io, **kw)\n",
      "c:\\Users\\aqs45\\OneDrive\\바탕 화면\\repo\\Python_AI\\venv\\lib\\site-packages\\IPython\\core\\pylabtools.py:152: UserWarning: Glyph 49552 (\\N{HANGUL SYLLABLE SON}) missing from current font.\n",
      "  fig.canvas.print_figure(bytes_io, **kw)\n",
      "c:\\Users\\aqs45\\OneDrive\\바탕 화면\\repo\\Python_AI\\venv\\lib\\site-packages\\IPython\\core\\pylabtools.py:152: UserWarning: Glyph 49345 (\\N{HANGUL SYLLABLE SANG}) missing from current font.\n",
      "  fig.canvas.print_figure(bytes_io, **kw)\n",
      "c:\\Users\\aqs45\\OneDrive\\바탕 화면\\repo\\Python_AI\\venv\\lib\\site-packages\\IPython\\core\\pylabtools.py:152: UserWarning: Glyph 46108 (\\N{HANGUL SYLLABLE DOEN}) missing from current font.\n",
      "  fig.canvas.print_figure(bytes_io, **kw)\n",
      "c:\\Users\\aqs45\\OneDrive\\바탕 화면\\repo\\Python_AI\\venv\\lib\\site-packages\\IPython\\core\\pylabtools.py:152: UserWarning: Glyph 51116 (\\N{HANGUL SYLLABLE JAE}) missing from current font.\n",
      "  fig.canvas.print_figure(bytes_io, **kw)\n",
      "c:\\Users\\aqs45\\OneDrive\\바탕 화면\\repo\\Python_AI\\venv\\lib\\site-packages\\IPython\\core\\pylabtools.py:152: UserWarning: Glyph 44396 (\\N{HANGUL SYLLABLE GU}) missing from current font.\n",
      "  fig.canvas.print_figure(bytes_io, **kw)\n",
      "c:\\Users\\aqs45\\OneDrive\\바탕 화면\\repo\\Python_AI\\venv\\lib\\site-packages\\IPython\\core\\pylabtools.py:152: UserWarning: Glyph 49457 (\\N{HANGUL SYLLABLE SEONG}) missing from current font.\n",
      "  fig.canvas.print_figure(bytes_io, **kw)\n"
     ]
    },
    {
     "data": {
      "image/png": "[encoded data removed]",
      "text/plain": [
       "<Figure size 1000x450 with 11 Axes>"
      ]
     },
     "metadata": {},
     "output_type": "display_data"
    }
   ],
   "source": [
    "# 모델 학습\n",
    "import numpy as np\n",
    "\n",
    "num_epochs = 30\n",
    "history_da = {'train_loss':[], 'val_loss':[]}\n",
    "loss_fn = torch.nn.MSELoss()\n",
    "\n",
    "for epoch in range(num_epochs):\n",
    "    print('EPOCH %d/%d' % (epoch + 1, num_epochs))\n",
    "    train_loss = train_epoch(encoder=encoder, decoder=decoder, device=device, dataloader=train_loader, loss_fn=loss_fn, optimizer=optim, noise_factor=0.3)\n",
    "\n",
    "    val_loss = test_epoch(encoder=encoder, decoder=decoder, device=device, dataloader=test_loader, loss_fn=loss_fn, noise_factor=0.3)\n",
    "\n",
    "    history_da['train_loss'].append(train_loss)\n",
    "    history_da['val_loss'].append(val_loss)\n",
    "    print('\\n EPOCH {}/{} \\t train loss {:.3f} \\t val loss {:.3f}'.format(epoch + 1, num_epochs,train_loss,val_loss))\n",
    "    plot_ae_outputs(encoder=encoder, decoder=decoder, noise_factor=0.3)"
   ]
  },
  {
   "cell_type": "markdown",
   "metadata": {},
   "source": []
  }
 ],
 "metadata": {
  "kernelspec": {
   "display_name": "venv",
   "language": "python",
   "name": "python3"
  },
  "language_info": {
   "codemirror_mode": {
    "name": "ipython",
    "version": 3
   },
   "file_extension": ".py",
   "mimetype": "text/x-python",
   "name": "python",
   "nbconvert_exporter": "python",
   "pygments_lexer": "ipython3",
   "version": "3.9.13"
  },
  "orig_nbformat": 4,
  "vscode": {
   "interpreter": {
    "hash": "969136afa1ab1e40cee0417c89a6b891bc5152d071e81b6238bc15b76e770f08"
   }
  }
 },
 "nbformat": 4,
 "nbformat_minor": 2
}
