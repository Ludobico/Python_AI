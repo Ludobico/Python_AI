{
 "cells": [
  {
   "attachments": {},
   "cell_type": "markdown",
   "metadata": {},
   "source": [
    "## GAN 구현\n",
    "GAN 예제 역시 MNIST 데이터셋을 사용하여 파이토치로 구현하는 방법을 알아보겠습니다.\n",
    "\n",
    "먼저 필요한 라이브러리를 호출합니다."
   ]
  },
  {
   "cell_type": "code",
   "execution_count": 1,
   "metadata": {},
   "outputs": [
    {
     "name": "stderr",
     "output_type": "stream",
     "text": [
      "c:\\Users\\aqs45\\OneDrive\\바탕 화면\\repo\\Python_AI\\venv\\lib\\site-packages\\tqdm\\auto.py:22: TqdmWarning: IProgress not found. Please update jupyter and ipywidgets. See https://ipywidgets.readthedocs.io/en/stable/user_install.html\n",
      "  from .autonotebook import tqdm as notebook_tqdm\n"
     ]
    }
   ],
   "source": [
    "import imageio # 이미지 데이터를 읽고 쓸 수 있는 쉬운 인터페이스를 제공하는 라이브러리\n",
    "from tqdm import tqdm\n",
    "\n",
    "import torch\n",
    "import torch.nn as nn\n",
    "import torch.optim as optim\n",
    "from torch.utils.data import Dataset, DataLoader\n",
    "\n",
    "import matplotlib.pyplot as plt\n",
    "\n",
    "from torchvision.utils import make_grid, save_image\n",
    "import torchvision.datasets as datasets\n",
    "import torchvision.transforms as transforms\n",
    "\n",
    "plt.style.use('ggplot')\n",
    "device = torch.device('cuda' if torch.cuda.is_available() else 'cpu')"
   ]
  },
  {
   "attachments": {},
   "cell_type": "markdown",
   "metadata": {},
   "source": [
    "* matplotlib 라이브러리는 시각화에 사용합니다. 맷플롯립은 폰트, 색상 등을 변경하여 사용할 수 있는데 예제에서는 스타일시트(stylesheet)를 바꾸어서 사용했습니다. 스타일시트로 사용할 수 있는 것들은 다음 코드와 같이 확인할 수 있습니다.\n",
    "\n",
    "```py\n",
    "import matplotlib.pyplot as plt\n",
    "plt.style.available\n",
    "```\n",
    " \n",
    "`ggplot` 스타일시트는 다음 그림과 같이 격자무늬에 백그라운드를 삽입하고자 할 때 사용합니다.  \n",
    "\n",
    "![](../Static/713.jpg)  \n",
    "\n",
    "학습을 위해 사용 가능한 스타일시트를 하나씩 적용해 보는 것도 도움이 됩니다.\n",
    "\n",
    "필요한 변수에 대한 값을 지정합니다.\n"
   ]
  },
  {
   "cell_type": "code",
   "execution_count": 2,
   "metadata": {},
   "outputs": [],
   "source": [
    "batch_size = 512\n",
    "epochs = 200\n",
    "sample_size = 64\n",
    "nz = 128\n",
    "k = 1"
   ]
  },
  {
   "attachments": {},
   "cell_type": "markdown",
   "metadata": {},
   "source": [
    "* `sample_size` 노이즈 벡터를 사용하여 가짜 이미지를 생성합니다. sample_size는 생성자에 제공할 고정크기의 노이즈 벡터에 대한 크기입니다.\n",
    "\n",
    "* `nz` 잠재 벡터의 크기를 의미합니다. 이때 잠재 벡터의 크기는 생성자의 입력 크기와 동일해야합니다.\n",
    "\n",
    "* `k` 판별자에 적용할 스탭 수를 의미합니다. 스텝 수를 1로 지정한 이유는 훈련 비용을 최소화하기 위함입니다."
   ]
  },
  {
   "cell_type": "code",
   "execution_count": null,
   "metadata": {},
   "outputs": [],
   "source": []
  }
 ],
 "metadata": {
  "kernelspec": {
   "display_name": "venv",
   "language": "python",
   "name": "python3"
  },
  "language_info": {
   "codemirror_mode": {
    "name": "ipython",
    "version": 3
   },
   "file_extension": ".py",
   "mimetype": "text/x-python",
   "name": "python",
   "nbconvert_exporter": "python",
   "pygments_lexer": "ipython3",
   "version": "3.9.13"
  },
  "orig_nbformat": 4,
  "vscode": {
   "interpreter": {
    "hash": "969136afa1ab1e40cee0417c89a6b891bc5152d071e81b6238bc15b76e770f08"
   }
  }
 },
 "nbformat": 4,
 "nbformat_minor": 2
}
