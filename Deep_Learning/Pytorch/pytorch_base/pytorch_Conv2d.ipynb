{
 "cells": [
  {
   "attachments": {},
   "cell_type": "markdown",
   "metadata": {},
   "source": [
    "## Conv2d\n",
    "\n",
    "Pytorch로 `computer vision`을 한다면 반드시 사용하는 `conv2d`에 대해서 정리하겠습니다.\n",
    "\n",
    "```py\n",
    "torch.nn.Conv2d(\n",
    "    in_channels, \n",
    "    out_channels, \n",
    "    kernel_size, \n",
    "    stride=1, \n",
    "    padding=0, \n",
    "    dilation=1, \n",
    "    groups=1, \n",
    "    bias=True, \n",
    "    padding_mode='zeros'\n",
    ")\n",
    "```\n",
    "\n",
    "* `conv2d`에서 사용되는 파라미터는 위와 같습니다. 여기서 입력되어야 하는 파라미터는 `in_channels`, `out_channels`, `kernel_size`입니다.\n",
    "\n",
    "* 나머지 파라미터는 기본값이 입력이 되어있고 기본값들이 일반적으로 많이 사용되는 값들입니다.\n",
    "* 먼저 위 함수는 input 값에 `2d convolution` 연산을 적용하는 함수입니다."
   ]
  },
  {
   "attachments": {},
   "cell_type": "markdown",
   "metadata": {},
   "source": [
    "* `stride`를 설정하기 위해 숫자 또는 튜플을 받습니다.\n",
    "\n",
    "* `padding`은 zero-padding할 사이즈를 입력 받습니다.\n",
    "\n",
    "* `dilation`은 atrous 알고리즘으로도 불리고 필터(커널) 사이의 간격을 의미합니다.\n",
    "\n",
    "* `groups`은 입력 채널과 출력 채널 사이의 관계를 나타내고 옵션은 다음와 같습니다.\n",
    "    * `groups=1`이면 모든 입력은 모든 출력과 convolution 연산이 됩니다. 일반적으로 알려진 convolution 연산과 같습니다.\n",
    "\n",
    "    * `groups=2`이면 입력을 2그룹으로 나누어서 각각 convolution 연산을 하고 그 결과를 concatenation을 합니다.\n",
    "\n",
    "    * `groups = in_channels` 이면 각각의 인풋 채널이 각각의 아웃풋 채널에 대응되어 convolution 연산을 하게 됩니다. 그 사이즈는 `out_channels // in_channels`가 됩니다.\n",
    "\n",
    "* `kernel size, stride, padding, dilation`은 int나 tuple이 될 수 있고 int이면 width와 height에 동시에 같은 값이 적용됩니다.\n",
    "\n",
    "* 특히 `groups = in_channels`이고 `out_channels == k * in_channels`이면 depthwise convolution`이라고 합니다.\n",
    "    * 이 개념은 `Xeption`이나 `mobilenet`에서 대표적으로 사용되고 있습니다."
   ]
  },
  {
   "cell_type": "code",
   "execution_count": 1,
   "metadata": {},
   "outputs": [
    {
     "name": "stderr",
     "output_type": "stream",
     "text": [
      "C:\\Users\\LUDOBICO\\AppData\\Roaming\\Python\\Python37\\site-packages\\tqdm\\auto.py:22: TqdmWarning: IProgress not found. Please update jupyter and ipywidgets. See https://ipywidgets.readthedocs.io/en/stable/user_install.html\n",
      "  from .autonotebook import tqdm as notebook_tqdm\n"
     ]
    }
   ],
   "source": [
    "import torch\n",
    "from torch import nn\n",
    "\n",
    "m = nn.Conv2d(16, 33, 3, stride=2)\n",
    "\n",
    "m = nn.Conv2d(16, 33, (3,5), stride=(2,1), padding=(4,2))\n",
    "\n",
    "m = nn.Conv2d(16, 33, (3,5), stride=(2,1), padding=(4,2), \n",
    "              dilation=(3,1))\n",
    "\n",
    "inputdata = torch.randn(20, 16, 50, 100)\n",
    "outputdata = m(inputdata)"
   ]
  },
  {
   "attachments": {},
   "cell_type": "markdown",
   "metadata": {},
   "source": []
  }
 ],
 "metadata": {
  "kernelspec": {
   "display_name": "Python 3",
   "language": "python",
   "name": "python3"
  },
  "language_info": {
   "codemirror_mode": {
    "name": "ipython",
    "version": 3
   },
   "file_extension": ".py",
   "mimetype": "text/x-python",
   "name": "python",
   "nbconvert_exporter": "python",
   "pygments_lexer": "ipython3",
   "version": "3.7.9"
  },
  "orig_nbformat": 4,
  "vscode": {
   "interpreter": {
    "hash": "9cc4cb84d376c55cbcefbb2577a30e93afba84ecdcb02495984b572f007c87af"
   }
  }
 },
 "nbformat": 4,
 "nbformat_minor": 2
}
