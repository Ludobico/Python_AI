{
 "cells": [
  {
   "cell_type": "markdown",
   "metadata": {},
   "source": [
    "### yolov5\n",
    "* yolov5는 s,m,l,x 의 4가지 버전이 있다.\n",
    "* pytorch 깔아야됨(pytorch.org/get-started/locally)\n",
    "* yolov5에 requirements.txt 추가로 깔아야됨(pip install -r requirements.txt)\n",
    "\n",
    "#### 학습\n",
    "```py\n",
    "python train.py -data 'data.yaml' -epochs 30 -batch 16\n",
    "```\n",
    "\n",
    "#### 검증\n",
    "```py\n",
    "python val.py --data 'data.yaml' --weights 'runs/train/exp/weights/best.pt' --source 'test/images/'\n",
    "```\n",
    "\n",
    "#### 예측\n",
    "```py\n",
    "python detect.py --weights 'runs/train/exp/weights/best.pt' --source 'test/images/'\n",
    "```"
   ]
  },
  {
   "cell_type": "markdown",
   "metadata": {},
   "source": []
  }
 ],
 "metadata": {
  "kernelspec": {
   "display_name": "Python 3.7.9 ('venv': venv)",
   "language": "python",
   "name": "python3"
  },
  "language_info": {
   "name": "python",
   "version": "3.7.9"
  },
  "orig_nbformat": 4,
  "vscode": {
   "interpreter": {
    "hash": "90ac13e2ffd2fb0a306c90461e8e391bceeb8ea777ddbefad745a048bb7968fd"
   }
  }
 },
 "nbformat": 4,
 "nbformat_minor": 2
}
