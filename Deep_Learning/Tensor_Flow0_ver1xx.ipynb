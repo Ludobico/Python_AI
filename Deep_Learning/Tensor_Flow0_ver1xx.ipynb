{
 "cells": [
  {
   "cell_type": "markdown",
   "metadata": {},
   "source": [
    "### TensorFlow\n",
    "* 개념\n",
    "    * tensorflow는 대규모 숫자 계산을 해주는 라이브러리이다.\n",
    "    * tensor는 다양한 행렬계산을 흐르게 한다는 의미이다.\n",
    "    * tensorflow는 일단 계산식을 먼저 만들어 놓고 데이터를 하나하나 넣으며 실행하는 구조이다.\n",
    "    * 일부 영상처리 기능도 가지고 있으며 그때는 openCV라이브러리 등과 함께 사용한다.\n",
    "\n",
    "* 텐서(Tensor)\n",
    "    * 텐서플로우는 스칼라, 벡터, 행렬과 같은 모든 데이터를 텐서(Tensor)로 인식한다.\n",
    "        - 숫자 1,2,3 : 스칼라(Scala)\n",
    "        - 1차원 배열 : 벡터(Vector)\n",
    "        - 2차원 배열 : 행렬(Metrix)\n",
    "        - 3차원 배열 : 텐서(Tensor)\n",
    "\n",
    "* 텐서플로우 노드(Node) / 엣지(Edge)\n",
    "    * 텐서플로우 코드를 구현 할 때에는 다음의 두가지 단계로 진행한다.\n",
    "        - 상수,변수,텐서 연산 등의 노드와 이들을 연결해주는 엣지를 정의한다.\n",
    "        - 세션(Session)을 만들고 그 세션을 통해 노드에 있는 데이터(텐서)가 전달되고 연산이 이루어진다."
   ]
  },
  {
   "cell_type": "markdown",
   "metadata": {},
   "source": []
  },
  {
   "cell_type": "code",
   "execution_count": 9,
   "metadata": {},
   "outputs": [
    {
     "name": "stdout",
     "output_type": "stream",
     "text": [
      "Tensor(\"Const_15:0\", shape=(), dtype=float32)\n",
      "Tensor(\"add_11:0\", shape=(), dtype=float32)\n",
      "Tensor(\"Const_17:0\", shape=(2, 2), dtype=float32)\n"
     ]
    },
    {
     "data": {
      "text/plain": [
       "'1.15.0'"
      ]
     },
     "execution_count": 9,
     "metadata": {},
     "output_type": "execute_result"
    }
   ],
   "source": [
    "import tensorflow as tf\n",
    "#상수 노드 정의\n",
    "a = tf.constant(1.0)\n",
    "b = tf.constant(2.0)\n",
    "c = tf.constant([ [1.0, 2.0], [3.0, 4.0] ])\n",
    "print(a)\n",
    "print(a+b)\n",
    "print(c)\n",
    "tf.__version__\n"
   ]
  },
  {
   "cell_type": "code",
   "execution_count": 10,
   "metadata": {},
   "outputs": [
    {
     "name": "stdout",
     "output_type": "stream",
     "text": [
      "[1.0, 2.0]\n",
      "[[1. 2.]\n",
      " [3. 4.]]\n",
      "[3.0]\n",
      "[[2. 3.]\n",
      " [4. 5.]]\n"
     ]
    }
   ],
   "source": [
    "# 세션(session) 을 만들고 노드간의 텐서 연산 실행\n",
    "sess = tf.Session()\n",
    "print(sess.run([a,b]))\n",
    "print(sess.run(c))\n",
    "print(sess.run([a+b]))\n",
    "print(sess.run(c+1.0)) # brodcast(모든 데이터에 특정 값을 연산) 수행\n",
    "\n",
    "# 세션 close\n",
    "sess.close()"
   ]
  },
  {
   "cell_type": "code",
   "execution_count": 11,
   "metadata": {},
   "outputs": [
    {
     "name": "stdout",
     "output_type": "stream",
     "text": [
      "14\n",
      "20\n"
     ]
    }
   ],
   "source": [
    "# tensorflow 읽어 들이기\n",
    "import tensorflow as tf\n",
    "\n",
    "# 상수 정의하기\n",
    "a = tf.constant(2)\n",
    "b = tf.constant(3)\n",
    "c = tf.constant(4)\n",
    "\n",
    "#연산 정의하기\n",
    "calc1_op = a + b * c\n",
    "calc2_op = (a+b) * c\n",
    "\n",
    "#세션 시작하기\n",
    "sess = tf.Session()\n",
    "res1 = sess.run(calc1_op)\n",
    "print(res1)\n",
    "\n",
    "res2 = sess.run(calc2_op)\n",
    "print(res2)\n",
    "\n",
    "sess.close()"
   ]
  },
  {
   "cell_type": "code",
   "execution_count": 12,
   "metadata": {},
   "outputs": [
    {
     "name": "stdout",
     "output_type": "stream",
     "text": [
      "4.0\n",
      "[4. 6.]\n"
     ]
    }
   ],
   "source": [
    "# 플레이스홀더 노드\n",
    "\n",
    "import tensorflow as tf\n",
    "\n",
    "#플레이스홀더 노드 정의\n",
    "a = tf.placeholder(tf.float32)\n",
    "b = tf.placeholder(tf.float32)\n",
    "c = a + b\n",
    "\n",
    "#세션을 만들고 플레이스홀더 노드를 통해 값 입력받음\n",
    "sess = tf.Session()\n",
    "print(sess.run(c, feed_dict={a:1.0, b:3.0}))\n",
    "print(sess.run(c, feed_dict={a:[1.0, 2.0], b:[3.0, 4.0]}))\n",
    "sess.close()"
   ]
  },
  {
   "cell_type": "code",
   "execution_count": 15,
   "metadata": {},
   "outputs": [
    {
     "name": "stdout",
     "output_type": "stream",
     "text": [
      "[2 4 6]\n",
      "[20 40 60]\n"
     ]
    }
   ],
   "source": [
    "import tensorflow as tf\n",
    "\n",
    "a = tf.placeholder(tf.int32, [3]) #정수 자료형 3개를 가진 배열\n",
    "\n",
    "#배열을 모든 값을 2배하는 연산 정의하기\n",
    "b = tf.constant(2)\n",
    "x2_op = a * b\n",
    "\n",
    "#세션 시작하기\n",
    "sess = tf.Session()\n",
    "\n",
    "#플레이스홀더에 값 넣고 실행ㅎ기\n",
    "r1 = sess.run(x2_op, feed_dict={a:[1,2,3]})\n",
    "print(r1)\n",
    "\n",
    "r2 = sess.run(x2_op, feed_dict={a:[10,20,30]})\n",
    "print(r2)\n",
    "\n",
    "sess.close()"
   ]
  },
  {
   "cell_type": "code",
   "execution_count": 19,
   "metadata": {},
   "outputs": [
    {
     "name": "stdout",
     "output_type": "stream",
     "text": [
      "step =  0 , W1 =  [1.0016055] , b1 =  [-0.08536478]\n",
      "step =  0 , W2 =  [[-0.1359696 -1.7619481]] , b2 =  [[-1.6478444 -1.134392 ]]\n",
      "step =  1 , W1 =  [0.00160551] , b1 =  [-1.0853648]\n",
      "step =  1 , W2 =  [[-1.1359696 -2.761948 ]] , b2 =  [[-2.6478443 -2.134392 ]]\n",
      "step =  2 , W1 =  [-1.9983945] , b1 =  [-3.0853648]\n",
      "step =  2 , W2 =  [[-3.1359696 -4.761948 ]] , b2 =  [[-4.6478443 -4.134392 ]]\n"
     ]
    }
   ],
   "source": [
    "# 변수 노드\n",
    "\n",
    "import tensorflow as tf\n",
    "\n",
    "#값이 업데이트되는 변수노드 정의\n",
    "\n",
    "w1 = tf.Variable(tf.random_normal([1])) #난수발생하는 함수\n",
    "b1 = tf.Variable(tf.random_normal([1]))\n",
    "w2 = tf.Variable(tf.random_normal([1,2]))\n",
    "b2 = tf.Variable(tf.random_normal([1,2]))\n",
    "\n",
    "sess = tf.Session()\n",
    "\n",
    "#변수노드 값 초기화, 변수노드를 정의했다면 반드시 필요함\n",
    "sess.run(tf.compat.v1.global_variables_initializer())\n",
    "\n",
    "for step in range(3):\n",
    "    w1 = w1 - step\n",
    "    b1 = b1 - step\n",
    "    w2 = w2 - step\n",
    "    b2 = b2 - step\n",
    "    print(\"step = \", step, \", W1 = \", sess.run(w1), \", b1 = \", sess.run(b1))\n",
    "    print(\"step = \", step, \", W2 = \", sess.run(w2), \", b2 = \", sess.run(b2))\n",
    "sess.close()\n"
   ]
  },
  {
   "cell_type": "code",
   "execution_count": 21,
   "metadata": {},
   "outputs": [
    {
     "name": "stdout",
     "output_type": "stream",
     "text": [
      "[ 2.  4.  6.  8. 10.]\n"
     ]
    }
   ],
   "source": [
    "import tensorflow as tf\n",
    "\n",
    "#feeding 값 선언\n",
    "input_data = [1,2,3,4,5]\n",
    "\n",
    "#placeholder 변수 선언\n",
    "x = tf.placeholder(dtype=tf.float32)\n",
    "\n",
    "#w = 2 라는 값 선언\n",
    "w = tf.Variable([2], dtype=tf.float32)\n",
    "y = w * x\n",
    "\n",
    "sess = tf.Session()\n",
    "\n",
    "# 변수 초기화\n",
    "sess.run(tf.global_variables_initializer())\n",
    "\n",
    "# y그래프에 input_data feeding 하면서 세션 실행\n",
    "result = sess.run(y,feed_dict={x:input_data})\n",
    "print(result)\n",
    "\n",
    "#세션 close\n",
    "sess.close()"
   ]
  },
  {
   "cell_type": "code",
   "execution_count": 22,
   "metadata": {},
   "outputs": [
    {
     "name": "stdout",
     "output_type": "stream",
     "text": [
      "390\n"
     ]
    }
   ],
   "source": [
    "import tensorflow as tf\n",
    "\n",
    "a = tf.constant(120)\n",
    "b = tf.constant(130)\n",
    "c = tf.constant(140)\n",
    "v = tf.Variable(0)\n",
    "\n",
    "#데이터에 플로우 그래프 정의하기\n",
    "calc_op = a+b+c\n",
    "\n",
    "#두번째 파라미터를 첫번째 파라미터에 대입함\n",
    "assign_op = tf.compat.v1.assign(v, calc_op)\n",
    "\n",
    "sess = tf.Session()\n",
    "sess.run(tf.global_variables_initializer())\n",
    "sess.run(assign_op)\n",
    "\n",
    "#v의 내용 출력하기\n",
    "print(sess.run(v))\n",
    "sess.close()\n"
   ]
  },
  {
   "cell_type": "code",
   "execution_count": 39,
   "metadata": {},
   "outputs": [],
   "source": [
    "import pandas as pd\n",
    "import numpy as np\n",
    "import tensorflow as tf\n",
    "\n",
    "#bmi 파일 읽기\n",
    "csv = pd.read_csv('../../AI머신러닝데이터/bmi.csv')\n",
    "\n",
    "#데이터 정규화\n",
    "csv['height'] = csv['height'] / 200\n",
    "csv['weight'] = csv['weight'] / 100\n",
    "\n",
    "#레이블을 배열로 변환하기\n",
    "bclass = {'thin':[1,0,0], 'normal':[0,1,0], 'fat':[0,0,1]}\n",
    "csv['label_pat'] = csv['label'].apply(lambda x: np.array(bclass[x]))\n",
    "\n",
    "#테스트를 위한 데이터 분류\n",
    "test_csv = csv[15000:20000]\n",
    "test_pat = test_csv[['weight','height']]\n",
    "test_ans = list(test_csv['label_pat'])"
   ]
  },
  {
   "cell_type": "code",
   "execution_count": 45,
   "metadata": {},
   "outputs": [],
   "source": [
    "# 플레이스 홀더 선언\n",
    "x = tf.placeholder(tf.float32, [None, 2]) #키와 몸무게 데이터 넣기, 2차원 구조\n",
    "y_ = tf.placeholder(tf.float32, [None, 3])\n",
    "\n",
    "#변수 선언하기\n",
    "w = tf.Variable(tf.zeros([2,3])) # 가중치\n",
    "b = tf.Variable(tf.zeros([3])) # bias\n",
    "\n",
    "#소프트맥스 회귀(다중분류) 정의하기\n",
    "y = tf.nn.softmax(tf.matmul(x,w) + b)"
   ]
  },
  {
   "cell_type": "code",
   "execution_count": 46,
   "metadata": {},
   "outputs": [],
   "source": [
    "#모델 훈련하기\n",
    "cross_entropy = tf.reduce_mean(tf.nn.softmax_cross_entropy_with_logits_v2(logits=y, labels=y_))\n",
    "\n",
    "#GradientDescentOptimizer : 경사하강법으로 손실 함수를 최소화하는 모델 파라미터를 찾기 위해 사용\n",
    "#0.01은 학습률\n",
    "optimizer = tf.train.GradientDescentOptimizer(0.01) \n",
    "train = optimizer.minimize(cross_entropy)\n",
    "\n",
    "#정답률 구하기\n",
    "predict = tf.equal(tf.argmax(y, 1), tf.argmax(y_,1))\n",
    "accuracy = tf.reduce_mean(tf.cast(predict, tf.float32)) # tf.cast() : 캐스트 연산에 사용\n"
   ]
  },
  {
   "cell_type": "code",
   "execution_count": 47,
   "metadata": {},
   "outputs": [
    {
     "name": "stdout",
     "output_type": "stream",
     "text": [
      "step= 0 cre= 1.098595 acc= 0.3242\n",
      "step= 500 cre= 1.0949001 acc= 0.3684\n",
      "step= 1000 cre= 1.0968362 acc= 0.3684\n",
      "step= 1500 cre= 1.0890875 acc= 0.3684\n",
      "step= 2000 cre= 1.0854574 acc= 0.3684\n",
      "step= 2500 cre= 1.0907798 acc= 0.3684\n",
      "step= 3000 cre= 1.0794799 acc= 0.3772\n",
      "step= 3500 cre= 1.0763575 acc= 0.4024\n",
      "step= 4000 cre= 1.082489 acc= 0.433\n",
      "step= 4500 cre= 1.0693377 acc= 0.4796\n",
      "step= 5000 cre= 1.0670123 acc= 0.5142\n",
      "step= 5500 cre= 1.0734547 acc= 0.5468\n",
      "step= 6000 cre= 1.058941 acc= 0.5828\n",
      "step= 6500 cre= 1.0574982 acc= 0.6054\n",
      "step= 7000 cre= 1.064285 acc= 0.6246\n",
      "step= 7500 cre= 1.0485251 acc= 0.6442\n",
      "step= 8000 cre= 1.0479634 acc= 0.6528\n",
      "step= 8500 cre= 1.0552124 acc= 0.659\n",
      "step= 9000 cre= 1.038259 acc= 0.6674\n",
      "step= 9500 cre= 1.0385478 acc= 0.6726\n",
      "step= 10000 cre= 1.0463612 acc= 0.6774\n",
      "step= 10500 cre= 1.0282755 acc= 0.6812\n",
      "step= 11000 cre= 1.02937 acc= 0.683\n",
      "step= 11500 cre= 1.0378207 acc= 0.6846\n",
      "step= 12000 cre= 1.018677 acc= 0.6868\n",
      "step= 12500 cre= 1.0205232 acc= 0.6872\n",
      "step= 13000 cre= 1.0296557 acc= 0.6872\n",
      "step= 13500 cre= 1.0095369 acc= 0.6888\n",
      "step= 14000 cre= 1.0120745 acc= 0.6892\n",
      "step= 14500 cre= 1.0219083 acc= 0.6894\n"
     ]
    }
   ],
   "source": [
    "sess = tf.Session()\n",
    "sess.run(tf.global_variables_initializer())\n",
    "\n",
    "#학습시키기\n",
    "for step in range(15000):\n",
    "    i = (step * 100) % 15000\n",
    "    rows = csv[1 + i : 1 + i + 100]\n",
    "    x_pat = rows[[\"weight\",\"height\"]]\n",
    "    y_ans = list(rows[\"label_pat\"])\n",
    "    fd = {x: x_pat, y_: y_ans}\n",
    "    sess.run(train, feed_dict=fd)\n",
    "    if step % 500 == 0:\n",
    "        cre = sess.run(cross_entropy, feed_dict=fd)\n",
    "        acc = sess.run(accuracy, feed_dict={x: test_pat, y_: test_ans})\n",
    "        print(\"step=\", step, \"cre=\", cre, \"acc=\", acc)\n"
   ]
  },
  {
   "cell_type": "code",
   "execution_count": 48,
   "metadata": {},
   "outputs": [
    {
     "name": "stdout",
     "output_type": "stream",
     "text": [
      "정답률 = 0.6906\n"
     ]
    }
   ],
   "source": [
    "#최종적인 정답률 구하기\n",
    "acc = sess.run(accuracy, feed_dict={x:test_pat, y_:test_ans})\n",
    "print('정답률 =',acc)\n",
    "\n",
    "sess.close()"
   ]
  },
  {
   "cell_type": "code",
   "execution_count": null,
   "metadata": {},
   "outputs": [],
   "source": []
  }
 ],
 "metadata": {
  "kernelspec": {
   "display_name": "Python 3.7.9 ('venv': venv)",
   "language": "python",
   "name": "python3"
  },
  "language_info": {
   "codemirror_mode": {
    "name": "ipython",
    "version": 3
   },
   "file_extension": ".py",
   "mimetype": "text/x-python",
   "name": "python",
   "nbconvert_exporter": "python",
   "pygments_lexer": "ipython3",
   "version": "3.7.9"
  },
  "orig_nbformat": 4,
  "vscode": {
   "interpreter": {
    "hash": "90ac13e2ffd2fb0a306c90461e8e391bceeb8ea777ddbefad745a048bb7968fd"
   }
  }
 },
 "nbformat": 4,
 "nbformat_minor": 2
}
