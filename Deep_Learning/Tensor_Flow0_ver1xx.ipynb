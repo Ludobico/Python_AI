{
 "cells": [
  {
   "cell_type": "markdown",
   "metadata": {},
   "source": [
    "### TensorFlow\n",
    "* 개념\n",
    "    * tensorflow는 대규모 숫자 계산을 해주는 라이브러리이다.\n",
    "    * tensor는 다양한 행렬계산을 흐르게 한다는 의미이다.\n",
    "    * tensorflow는 일단 계산식을 먼저 만들어 놓고 데이터를 하나하나 넣으며 실행하는 구조이다.\n",
    "    * 일부 영상처리 기능도 가지고 있으며 그때는 openCV라이브러리 등과 함께 사용한다.\n",
    "\n",
    "* 텐서(Tensor)\n",
    "    * 텐서플로우는 스칼라, 벡터, 행렬과 같은 모든 데이터를 텐서(Tensor)로 인식한다.\n",
    "        - 숫자 1,2,3 : 스칼라(Scala)\n",
    "        - 1차원 배열 : 벡터(Vector)\n",
    "        - 2차원 배열 : 행렬(Metrix)\n",
    "        - 3차원 배열 : 텐서(Tensor)\n",
    "\n",
    "* 텐서플로우 노드(Node) / 엣지(Edge)\n",
    "    * 텐서플로우 코드를 구현 할 때에는 다음의 두가지 단계로 진행한다.\n",
    "        - 상수,변수,텐서 연산 등의 노드와 이들을 연결해주는 엣지를 정의한다.\n",
    "        - 세션(Session)을 만들고 그 세션을 통해 노드에 있는 데이터(텐서)가 전달되고 연산이 이루어진다."
   ]
  },
  {
   "cell_type": "markdown",
   "metadata": {},
   "source": []
  },
  {
   "cell_type": "code",
   "execution_count": 2,
   "metadata": {},
   "outputs": [
    {
     "name": "stdout",
     "output_type": "stream",
     "text": [
      "Tensor(\"Const_3:0\", shape=(), dtype=float32)\n",
      "Tensor(\"add_1:0\", shape=(), dtype=float32)\n",
      "Tensor(\"Const_5:0\", shape=(2, 2), dtype=float32)\n"
     ]
    },
    {
     "data": {
      "text/plain": [
       "'1.15.0'"
      ]
     },
     "execution_count": 2,
     "metadata": {},
     "output_type": "execute_result"
    }
   ],
   "source": [
    "import tensorflow as tf\n",
    "#상수 노드 정의\n",
    "a = tf.constant(1.0)\n",
    "b = tf.constant(2.0)\n",
    "c = tf.constant([[1.0, 2.0], [3.0, 4.0]])\n",
    "print(a)\n",
    "print(a+b)\n",
    "print(c)\n",
    "tf.__version__\n"
   ]
  },
  {
   "cell_type": "code",
   "execution_count": null,
   "metadata": {},
   "outputs": [],
   "source": []
  },
  {
   "cell_type": "code",
   "execution_count": null,
   "metadata": {},
   "outputs": [],
   "source": []
  },
  {
   "cell_type": "code",
   "execution_count": null,
   "metadata": {},
   "outputs": [],
   "source": []
  },
  {
   "cell_type": "code",
   "execution_count": null,
   "metadata": {},
   "outputs": [],
   "source": []
  }
 ],
 "metadata": {
  "kernelspec": {
   "display_name": "Python 3.7.9 ('venv': venv)",
   "language": "python",
   "name": "python3"
  },
  "language_info": {
   "codemirror_mode": {
    "name": "ipython",
    "version": 3
   },
   "file_extension": ".py",
   "mimetype": "text/x-python",
   "name": "python",
   "nbconvert_exporter": "python",
   "pygments_lexer": "ipython3",
   "version": "3.7.9"
  },
  "orig_nbformat": 4,
  "vscode": {
   "interpreter": {
    "hash": "90ac13e2ffd2fb0a306c90461e8e391bceeb8ea777ddbefad745a048bb7968fd"
   }
  }
 },
 "nbformat": 4,
 "nbformat_minor": 2
}
