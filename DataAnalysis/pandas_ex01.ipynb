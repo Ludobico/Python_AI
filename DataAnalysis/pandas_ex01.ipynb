{
 "cells": [
  {
   "cell_type": "code",
   "execution_count": 10,
   "id": "c3800556",
   "metadata": {},
   "outputs": [],
   "source": [
    "import pandas as pd\n",
    "import numpy as np"
   ]
  },
  {
   "cell_type": "code",
   "execution_count": 30,
   "id": "ef1b5b37",
   "metadata": {},
   "outputs": [
    {
     "data": {
      "text/html": [
       "<div>\n",
       "<style scoped>\n",
       "    .dataframe tbody tr th:only-of-type {\n",
       "        vertical-align: middle;\n",
       "    }\n",
       "\n",
       "    .dataframe tbody tr th {\n",
       "        vertical-align: top;\n",
       "    }\n",
       "\n",
       "    .dataframe thead th {\n",
       "        text-align: right;\n",
       "    }\n",
       "</style>\n",
       "<table border=\"1\" class=\"dataframe\">\n",
       "  <thead>\n",
       "    <tr style=\"text-align: right;\">\n",
       "      <th></th>\n",
       "      <th>a</th>\n",
       "    </tr>\n",
       "  </thead>\n",
       "  <tbody>\n",
       "    <tr>\n",
       "      <th>0</th>\n",
       "      <td>0</td>\n",
       "    </tr>\n",
       "    <tr>\n",
       "      <th>1</th>\n",
       "      <td>1</td>\n",
       "    </tr>\n",
       "    <tr>\n",
       "      <th>2</th>\n",
       "      <td>2</td>\n",
       "    </tr>\n",
       "    <tr>\n",
       "      <th>3</th>\n",
       "      <td>3</td>\n",
       "    </tr>\n",
       "    <tr>\n",
       "      <th>4</th>\n",
       "      <td>4</td>\n",
       "    </tr>\n",
       "    <tr>\n",
       "      <th>5</th>\n",
       "      <td>5</td>\n",
       "    </tr>\n",
       "    <tr>\n",
       "      <th>6</th>\n",
       "      <td>6</td>\n",
       "    </tr>\n",
       "    <tr>\n",
       "      <th>7</th>\n",
       "      <td>7</td>\n",
       "    </tr>\n",
       "    <tr>\n",
       "      <th>8</th>\n",
       "      <td>8</td>\n",
       "    </tr>\n",
       "  </tbody>\n",
       "</table>\n",
       "</div>"
      ],
      "text/plain": [
       "   a\n",
       "0  0\n",
       "1  1\n",
       "2  2\n",
       "3  3\n",
       "4  4\n",
       "5  5\n",
       "6  6\n",
       "7  7\n",
       "8  8"
      ]
     },
     "execution_count": 30,
     "metadata": {},
     "output_type": "execute_result"
    }
   ],
   "source": [
    "a = np.arange(9)\n",
    "pd.DataFrame({'a': a})"
   ]
  },
  {
   "cell_type": "code",
   "execution_count": 34,
   "id": "e94dae1e",
   "metadata": {},
   "outputs": [
    {
     "name": "stdout",
     "output_type": "stream",
     "text": [
      "0    1\n",
      "1    3\n",
      "2    5\n",
      "3    7\n",
      "4    9\n",
      "dtype: int64 \n",
      "\n",
      "RangeIndex(start=0, stop=5, step=1) \n",
      "\n",
      "[1 3 5 7 9]\n"
     ]
    }
   ],
   "source": [
    "s = pd.Series([1,3,5,7,9])\n",
    "print(s,'\\n')\n",
    "print(s.index,'\\n')\n",
    "print(s.values)"
   ]
  },
  {
   "cell_type": "code",
   "execution_count": 44,
   "id": "fe724864",
   "metadata": {},
   "outputs": [
    {
     "name": "stdout",
     "output_type": "stream",
     "text": [
      "서울    9904312\n",
      "부산    3448737\n",
      "인천    2890451\n",
      "대구    2466052\n",
      "dtype: int64 \n",
      "\n",
      "0    1\n",
      "1    2\n",
      "2    3\n",
      "3    4\n",
      "4    5\n",
      "5    6\n",
      "6    7\n",
      "7    8\n",
      "8    9\n",
      "dtype: int64 \n",
      "\n",
      "Index(['서울', '부산', '인천', '대구'], dtype='object') \n",
      "\n",
      "[9904312 3448737 2890451 2466052] \n",
      "\n",
      "도시\n",
      "서울    9904312\n",
      "부산    3448737\n",
      "인천    2890451\n",
      "대구    2466052\n",
      "Name: 인구, dtype: int64 \n",
      "\n",
      "서울    9904312\n",
      "부산    3448737\n",
      "인천    2890451\n",
      "대구    2466052\n",
      "Name: 인구, dtype: int64 \n",
      "\n"
     ]
    }
   ],
   "source": [
    "s = pd.Series([9904312,3448737,2890451,2466052], index=['서울','부산','인천','대구'])\n",
    "print(s,'\\n')\n",
    "print(pd.Series(range(1,10)),'\\n')\n",
    "print(s.index,'\\n')\n",
    "print(s.values,'\\n')\n",
    "s.name = '인구'\n",
    "s.index.name = '도시'\n",
    "\n",
    "print(s,'\\n')\n",
    "\n",
    "s.index.name = None\n",
    "print(s,'\\n')"
   ]
  },
  {
   "cell_type": "code",
   "execution_count": 47,
   "id": "18f834a7",
   "metadata": {},
   "outputs": [
    {
     "name": "stdout",
     "output_type": "stream",
     "text": [
      "서울    9.904312\n",
      "부산    3.448737\n",
      "인천    2.890451\n",
      "대구    2.466052\n",
      "dtype: float64 \n",
      "\n",
      "부산    3.448737\n",
      "인천    2.890451\n",
      "dtype: float64 \n",
      "\n",
      "9.904312\n"
     ]
    }
   ],
   "source": [
    "s = pd.Series([9904312,3448737,2890451,2466052], index=['서울','부산','인천','대구'])\n",
    "s = s / 1000000\n",
    "print(s,'\\n')\n",
    "print(s[1:3],'\\n')\n",
    "print(s['서울'],'\\n')"
   ]
  },
  {
   "cell_type": "code",
   "execution_count": 49,
   "id": "ddacffb6",
   "metadata": {},
   "outputs": [
    {
     "name": "stdout",
     "output_type": "stream",
     "text": [
      "a    0\n",
      "b    1\n",
      "c    2\n",
      "dtype: int64 \n",
      "\n",
      "0 \n",
      "\n",
      "0\n"
     ]
    }
   ],
   "source": [
    "s1 = pd.Series(range(3), index=['a','b','c'])\n",
    "print(s1,'\\n')\n",
    "print(s1.a,'\\n')\n",
    "print(s1['a'])"
   ]
  },
  {
   "cell_type": "code",
   "execution_count": 60,
   "id": "876b7159",
   "metadata": {},
   "outputs": [
    {
     "name": "stdout",
     "output_type": "stream",
     "text": [
      "True \n",
      "\n",
      "False \n",
      "\n",
      "서울,9904312\n",
      "부산,3448737\n",
      "인천,2890451\n",
      "대구,2466052\n",
      "서울\n",
      "부산\n",
      "인천\n",
      "대구\n",
      "[9904312 3448737 2890451 2466052]\n"
     ]
    }
   ],
   "source": [
    "s = pd.Series([9904312,3448737,2890451,2466052], index=['서울','부산','인천','대구'])\n",
    "print('대구' in s,'\\n')\n",
    "print('대전' in s,'\\n')\n",
    "for key, value in s.items():\n",
    "    print('{0},{1}'.format(key, value))\n",
    "\n",
    "for key in s.keys():\n",
    "    print('{0}'.format(key))\n",
    "print(s.values)"
   ]
  },
  {
   "cell_type": "code",
   "execution_count": 68,
   "id": "ff3beebb",
   "metadata": {},
   "outputs": [
    {
     "name": "stdout",
     "output_type": "stream",
     "text": [
      "국어    90\n",
      "영어    80\n",
      "수학    70\n",
      "dtype: int64 \n",
      "\n",
      "Index(['국어', '영어', '수학'], dtype='object') \n",
      "\n",
      "[90 80 70] \n",
      "\n",
      "서울    9000000\n",
      "부산    8000000\n",
      "인천    7000000\n",
      "대전    6000000\n",
      "dtype: int64 \n",
      "\n",
      "Index(['서울', '부산', '인천', '대전'], dtype='object') \n",
      "\n",
      "부산    8000000\n",
      "서울    9000000\n",
      "인천    7000000\n",
      "대전    6000000\n",
      "dtype: int64\n"
     ]
    }
   ],
   "source": [
    "s = pd.Series({'국어':90, '영어':80, '수학':70})\n",
    "print(s,'\\n')\n",
    "print(s.index,'\\n')\n",
    "print(s.values,'\\n')\n",
    "\n",
    "s2 = pd.Series({'서울':9000000,'부산':8000000,'인천':7000000,'대전':6000000})\n",
    "print(s2,'\\n')\n",
    "print(s2.index,'\\n')\n",
    "s2 = pd.Series({'서울':9000000,'부산':8000000,'인천':7000000,'대전':6000000}, index=['부산','서울','인천','대전'])\n",
    "print(s2)"
   ]
  },
  {
   "cell_type": "code",
   "execution_count": 71,
   "id": "372204bb",
   "metadata": {},
   "outputs": [
    {
     "name": "stdout",
     "output_type": "stream",
     "text": [
      "대구         NaN\n",
      "대전         NaN\n",
      "부산     55546.0\n",
      "서울    272830.0\n",
      "인천    258416.0\n",
      "dtype: float64 \n",
      "\n",
      "[ 6511121 -6182745   258416   975894] \n",
      "\n",
      "대구    False\n",
      "대전    False\n",
      "부산     True\n",
      "서울     True\n",
      "인천     True\n",
      "dtype: bool \n",
      "\n",
      "부산     55546.0\n",
      "서울    272830.0\n",
      "인천    258416.0\n",
      "dtype: float64 \n",
      "\n",
      "부산    1.636984\n",
      "서울    2.832690\n",
      "인천    9.818107\n",
      "dtype: float64\n"
     ]
    }
   ],
   "source": [
    "s = pd.Series([9904312,3448737,2890451,2466052], index=['서울','부산','인천','대구'])\n",
    "s2 = pd.Series({'서울':9631482,'부산':3393191,'인천':2632035,'대전':1490158},index=['부산','서울','인천','대전'])\n",
    "ds = s - s2\n",
    "print(ds,'\\n')\n",
    "print(s.values - s2.values,'\\n')\n",
    "print(ds.notnull(),'\\n')\n",
    "print(ds[ds.notnull()],'\\n')\n",
    "rs = (s - s2)/ s2 * 100 #인구 증가율\n",
    "rs = rs[rs.notnull()]\n",
    "print(rs)"
   ]
  },
  {
   "cell_type": "code",
   "execution_count": 74,
   "id": "8833203c",
   "metadata": {},
   "outputs": [
    {
     "data": {
      "text/html": [
       "<div>\n",
       "<style scoped>\n",
       "    .dataframe tbody tr th:only-of-type {\n",
       "        vertical-align: middle;\n",
       "    }\n",
       "\n",
       "    .dataframe tbody tr th {\n",
       "        vertical-align: top;\n",
       "    }\n",
       "\n",
       "    .dataframe thead th {\n",
       "        text-align: right;\n",
       "    }\n",
       "</style>\n",
       "<table border=\"1\" class=\"dataframe\">\n",
       "  <thead>\n",
       "    <tr style=\"text-align: right;\">\n",
       "      <th></th>\n",
       "      <th>지역</th>\n",
       "      <th>2015</th>\n",
       "      <th>2010</th>\n",
       "      <th>2005</th>\n",
       "      <th>2000</th>\n",
       "      <th>2010-2015 증가율</th>\n",
       "    </tr>\n",
       "  </thead>\n",
       "  <tbody>\n",
       "    <tr>\n",
       "      <th>서울</th>\n",
       "      <td>수도권</td>\n",
       "      <td>9904312</td>\n",
       "      <td>9631482</td>\n",
       "      <td>9762546</td>\n",
       "      <td>9853972</td>\n",
       "      <td>0.0283</td>\n",
       "    </tr>\n",
       "    <tr>\n",
       "      <th>부산</th>\n",
       "      <td>경상권</td>\n",
       "      <td>3448737</td>\n",
       "      <td>3393191</td>\n",
       "      <td>3512547</td>\n",
       "      <td>3655437</td>\n",
       "      <td>0.0163</td>\n",
       "    </tr>\n",
       "    <tr>\n",
       "      <th>인천</th>\n",
       "      <td>수도권</td>\n",
       "      <td>2890451</td>\n",
       "      <td>2632035</td>\n",
       "      <td>2517680</td>\n",
       "      <td>2466338</td>\n",
       "      <td>0.0982</td>\n",
       "    </tr>\n",
       "    <tr>\n",
       "      <th>대구</th>\n",
       "      <td>경상권</td>\n",
       "      <td>2466052</td>\n",
       "      <td>2431774</td>\n",
       "      <td>2456016</td>\n",
       "      <td>2473990</td>\n",
       "      <td>0.0141</td>\n",
       "    </tr>\n",
       "  </tbody>\n",
       "</table>\n",
       "</div>"
      ],
      "text/plain": [
       "     지역     2015     2010     2005     2000  2010-2015 증가율\n",
       "서울  수도권  9904312  9631482  9762546  9853972         0.0283\n",
       "부산  경상권  3448737  3393191  3512547  3655437         0.0163\n",
       "인천  수도권  2890451  2632035  2517680  2466338         0.0982\n",
       "대구  경상권  2466052  2431774  2456016  2473990         0.0141"
      ]
     },
     "execution_count": 74,
     "metadata": {},
     "output_type": "execute_result"
    }
   ],
   "source": [
    "data = {\n",
    "    \"2015\": [9904312, 3448737, 2890451, 2466052],\n",
    "    \"2010\": [9631482, 3393191, 2632035, 2431774],\n",
    "    \"2005\": [9762546, 3512547, 2517680, 2456016],\n",
    "    \"2000\": [9853972, 3655437, 2466338, 2473990],\n",
    "    \"지역\": [\"수도권\", \"경상권\", \"수도권\", \"경상권\"],\n",
    "    \"2010-2015 증가율\": [0.0283, 0.0163, 0.0982, 0.0141]\n",
    "}\n",
    "columns = [\"지역\", \"2015\", \"2010\", \"2005\", \"2000\", \"2010-2015 증가율\"]\n",
    "index = [\"서울\", \"부산\", \"인천\", \"대구\"]\n",
    "df = pd.DataFrame(data, index=index, columns=columns)\n",
    "df"
   ]
  },
  {
   "cell_type": "code",
   "execution_count": null,
   "id": "484d7c4d",
   "metadata": {},
   "outputs": [],
   "source": []
  }
 ],
 "metadata": {
  "kernelspec": {
   "display_name": "Python 3 (ipykernel)",
   "language": "python",
   "name": "python3"
  },
  "language_info": {
   "codemirror_mode": {
    "name": "ipython",
    "version": 3
   },
   "file_extension": ".py",
   "mimetype": "text/x-python",
   "name": "python",
   "nbconvert_exporter": "python",
   "pygments_lexer": "ipython3",
   "version": "3.7.9"
  }
 },
 "nbformat": 4,
 "nbformat_minor": 5
}
