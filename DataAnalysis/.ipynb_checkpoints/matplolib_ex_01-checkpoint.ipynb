{
 "cells": [
  {
   "cell_type": "markdown",
   "id": "3b4f9314",
   "metadata": {},
   "source": [
    "## 라인 플롯\n",
    "* show()은 시각화 명령을 실제로 차트로 렌더링 하고 마우스 움직임 등의 이벤트를 기다리라는 지시이다.\n",
    "* 가장 간단한 플롯으로 데이터가 시간,순서 등에 따라 어떻게 변화하는지 보여주기 위해 사용한다.\n",
    "* 스타일 문자열은 color, marker, line style 의 순서로 지정한다. 만약 이 중에 일부가 생략되면 디폴트값이 적용된다."
   ]
  },
  {
   "cell_type": "code",
   "execution_count": null,
   "id": "8b8cb689",
   "metadata": {},
   "outputs": [],
   "source": []
  }
 ],
 "metadata": {
  "kernelspec": {
   "display_name": "Python 3 (ipykernel)",
   "language": "python",
   "name": "python3"
  },
  "language_info": {
   "codemirror_mode": {
    "name": "ipython",
    "version": 3
   },
   "file_extension": ".py",
   "mimetype": "text/x-python",
   "name": "python",
   "nbconvert_exporter": "python",
   "pygments_lexer": "ipython3",
   "version": "3.7.9"
  }
 },
 "nbformat": 4,
 "nbformat_minor": 5
}
