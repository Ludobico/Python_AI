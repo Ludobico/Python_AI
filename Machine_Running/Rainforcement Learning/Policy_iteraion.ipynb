{
 "cells": [
  {
   "cell_type": "code",
   "execution_count": null,
   "metadata": {},
   "outputs": [],
   "source": [
    "def policy_eval(policy, env, discount_factor=1.0, theta=0.00001):\n",
    "    \"\"\"환경의 다이나믹스를 고려하여 주어진 정책을 평가합니다.\n",
    "\n",
    "    Args:\n",
    "        policy (S, A): 의 형태를 띈 정책 함수\n",
    "        env : OpenAI의 env, env.P 는 상태 변이 확률\n",
    "                env.P[s][a]는 상태 변이 확률 분포 리스트\n",
    "                env.nS 는 환경의 상태의 갯수\n",
    "                env.nA 는 환경의 액션의 갯수\n",
    "        discount_factor : 할인률\n",
    "        theta : 가치 함수 변화량이 theta보다 작아지면 학습을 중단함.\n",
    "        return 모든 상태의 가치를 담고 있는 벡터(벡터의 길이:env.nS)\n",
    "    \"\"\"\n",
    "    \n",
    "    # 랜덤의 (모든 값이 0)"
   ]
  }
 ],
 "metadata": {
  "language_info": {
   "name": "python"
  },
  "orig_nbformat": 4
 },
 "nbformat": 4,
 "nbformat_minor": 2
}
