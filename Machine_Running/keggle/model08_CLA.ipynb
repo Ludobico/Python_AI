{
 "cells": [
  {
   "cell_type": "code",
   "execution_count": 182,
   "metadata": {},
   "outputs": [],
   "source": [
    "import pandas as pd\n",
    "import numpy as np\n",
    "import matplotlib.pyplot as plt\n",
    "\n",
    "df = pd.read_csv('./classification220926/train.csv')\n",
    "dftest = pd.read_csv('./classification220926/test.csv')\n",
    "\n",
    "x = df.iloc[:,:-1]\n",
    "x1 = dftest\n",
    "y = df.loc[:,['income']]"
   ]
  },
  {
   "cell_type": "code",
   "execution_count": 183,
   "metadata": {},
   "outputs": [],
   "source": [
    "x.drop(['no', 'education','fnlwgt','native-country'], axis=1, inplace=True)\n",
    "\n",
    "x1.drop(['no', 'education','fnlwgt','native-country'], axis=1, inplace=True)"
   ]
  },
  {
   "cell_type": "code",
   "execution_count": 185,
   "metadata": {},
   "outputs": [],
   "source": [
    "x.replace({'workclass':{'Never-worked':'whitehand','Without-pay':'littlework','State-gov':'gov',\n",
    "                        'Local-gov':'gov','Federal-gov':'gov'}},inplace=True,regex=True)\n",
    "\n",
    "\n",
    "x.replace({'marital-status' : {'Never-married':'single','Separated':'single','Widowed':'single','Married-spouse-absent':'single'\n",
    "                               ,'Divorced':'single','Married-AF-spouse':'couple','Married-civ-spouse':'couple'}},\n",
    "          inplace=True,regex=True)\n",
    "x.replace({'relationship':{'Own-child':'couple','Other-relative':'other','Unmarried':'single','Not-in-family':'couple',\n",
    "           'Husband':'couple','Wife':'couple'}},inplace=True,regex=True)\n",
    "\n",
    "\n",
    "xstr = x[['workclass','marital-status','occupation','relationship','race','sex']]\n",
    "xnum = x[['age','education-num','capital-gain','capital-loss','hours-per-week']]\n",
    "\n",
    "\n",
    "\n",
    "\n",
    "x1.replace({'workclass':{'Never-worked':'whitehand','Without-pay':'littlework','State-gov':'gov',\n",
    "                        'Local-gov':'gov','Federal-gov':'gov'}},inplace=True,regex=True)\n",
    "\n",
    "x1.replace({'marital-status' : {'Never-married':'single','Separated':'single','Widowed':'single','Married-spouse-absent':'single'\n",
    "                               ,'Divorced':'single','Married-AF-spouse':'couple','Married-civ-spouse':'couple'}},\n",
    "          inplace=True,regex=True)\n",
    "x1.replace({'relationship':{'Own-child':'couple','Other-relative':'other','Unmarried':'single','Not-in-family':'couple',\n",
    "           'Husband':'couple','Wife':'couple'}},inplace=True,regex=True)\n",
    "\n",
    "\n",
    "\n",
    "xstr1 = x1[['workclass','marital-status','occupation','relationship','race','sex']]\n",
    "xnum1 = x1[['age','education-num','capital-gain','capital-loss','hours-per-week']]"
   ]
  },
  {
   "cell_type": "code",
   "execution_count": 186,
   "metadata": {},
   "outputs": [],
   "source": [
    "from sklearn.preprocessing import LabelEncoder\n",
    "from sklearn.preprocessing import MinMaxScaler\n",
    "from sklearn.preprocessing import StandardScaler\n",
    "encoder = LabelEncoder()\n",
    "scaler = MinMaxScaler()\n",
    "scaler2 = StandardScaler()\n",
    "\n",
    "\n",
    "xstrdummy = pd.get_dummies(xstr)\n",
    "xstr = xstrdummy\n",
    "x = pd.concat([xstr,xnum],axis=1)\n",
    "\n",
    "\n",
    "xstrdummy1 = pd.get_dummies(xstr1)\n",
    "xstr1 = xstrdummy1\n",
    "x1 = pd.concat([xstr1,xnum1],axis=1)"
   ]
  },
  {
   "cell_type": "code",
   "execution_count": 187,
   "metadata": {},
   "outputs": [],
   "source": [
    "from sklearn.model_selection import train_test_split\n",
    "x_train,x_test,y_train,y_test = train_test_split(x, y, test_size=0.3,random_state=1)"
   ]
  },
  {
   "cell_type": "code",
   "execution_count": 190,
   "metadata": {},
   "outputs": [
    {
     "name": "stderr",
     "output_type": "stream",
     "text": [
      "c:\\Project\\AI_Source\\AI_01\\venv\\lib\\site-packages\\sklearn\\neural_network\\_multilayer_perceptron.py:1109: DataConversionWarning: A column-vector y was passed when a 1d array was expected. Please change the shape of y to (n_samples, ), for example using ravel().\n",
      "  y = column_or_1d(y, warn=True)\n"
     ]
    },
    {
     "name": "stdout",
     "output_type": "stream",
     "text": [
      "0.844342612002145\n",
      "0.839171974522293\n"
     ]
    },
    {
     "name": "stderr",
     "output_type": "stream",
     "text": [
      "c:\\Project\\AI_Source\\AI_01\\venv\\lib\\site-packages\\sklearn\\neural_network\\_multilayer_perceptron.py:549: ConvergenceWarning: lbfgs failed to converge (status=1):\n",
      "STOP: TOTAL NO. of ITERATIONS REACHED LIMIT.\n",
      "\n",
      "Increase the number of iterations (max_iter) or scale the data as shown in:\n",
      "    https://scikit-learn.org/stable/modules/preprocessing.html\n",
      "  self.n_iter_ = _check_optimize_result(\"lbfgs\", opt_res, self.max_iter)\n"
     ]
    }
   ],
   "source": [
    "from sklearn.neural_network import MLPClassifier\n",
    "mlp = MLPClassifier(activation='tanh', early_stopping=False, max_iter=5000,solver = \"lbfgs\",random_state=42,alpha = 1e-5)\n",
    "mlp.fit(x_train, y_train)\n",
    "print(mlp.score(x_train, y_train)) #훈련 데이터\n",
    "print(mlp.score(x_test, y_test)) #테스트 데이터"
   ]
  },
  {
   "cell_type": "code",
   "execution_count": null,
   "metadata": {},
   "outputs": [],
   "source": []
  }
 ],
 "metadata": {
  "kernelspec": {
   "display_name": "Python 3.7.9 ('venv': venv)",
   "language": "python",
   "name": "python3"
  },
  "language_info": {
   "codemirror_mode": {
    "name": "ipython",
    "version": 3
   },
   "file_extension": ".py",
   "mimetype": "text/x-python",
   "name": "python",
   "nbconvert_exporter": "python",
   "pygments_lexer": "ipython3",
   "version": "3.7.9"
  },
  "orig_nbformat": 4,
  "vscode": {
   "interpreter": {
    "hash": "90ac13e2ffd2fb0a306c90461e8e391bceeb8ea777ddbefad745a048bb7968fd"
   }
  }
 },
 "nbformat": 4,
 "nbformat_minor": 2
}
