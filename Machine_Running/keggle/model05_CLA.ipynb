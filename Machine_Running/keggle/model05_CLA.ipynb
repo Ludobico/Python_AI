{
 "cells": [
  {
   "cell_type": "code",
   "execution_count": 1,
   "metadata": {},
   "outputs": [],
   "source": [
    "import pandas as pd\n",
    "import numpy as np\n",
    "import matplotlib.pyplot as plt\n",
    "\n",
    "df = pd.read_csv('./classification220926/train.csv')\n",
    "dftest = pd.read_csv('./classification220926/test.csv')\n",
    "\n",
    "x = df.iloc[:,:-1]\n",
    "x1_test = dftest.iloc[:, :]\n",
    "y = df.loc[:,['income']]\n",
    "# y1_test = dftest.loc[:,['income']]"
   ]
  },
  {
   "cell_type": "code",
   "execution_count": 2,
   "id": "2dfbf340",
   "metadata": {},
   "outputs": [],
   "source": [
    "x.drop(['no', 'education', 'fnlwgt', 'native-country'], axis=1, inplace=True)\n",
    "x1_test.drop(['no', 'education', 'fnlwgt', 'native-country'],\n",
    "             axis=1, inplace=True)\n"
   ]
  },
  {
   "cell_type": "code",
   "execution_count": 3,
   "id": "2c5765c9",
   "metadata": {},
   "outputs": [],
   "source": [
    "import numpy as np\n",
    "\n",
    "# x['workclass'].replace(to_replace=['?'], value=np.NaN, inplace=True)\n",
    "# x.value_counts('workclass')"
   ]
  },
  {
   "cell_type": "code",
   "execution_count": 4,
   "id": "47a18aaa",
   "metadata": {},
   "outputs": [],
   "source": [
    "x['workclass'] = x['workclass'].astype('category')\n",
    "x['marital-status'] = x['marital-status'].astype('category')\n",
    "x['relationship'] = x['relationship'].astype('category')\n",
    "x['race'] = x['race'].astype('category')\n",
    "x['sex'] = x['sex'].astype('category')\n",
    "x['workclass'] = x['workclass'].astype('category')\n",
    "x1_test['workclass'] = x1_test['workclass'].astype('category')\n",
    "x1_test['marital-status'] = x1_test['marital-status'].astype('category')\n",
    "x1_test['relationship'] = x1_test['relationship'].astype('category')\n",
    "x1_test['race'] = x1_test['race'].astype('category')\n",
    "x1_test['sex'] = x1_test['sex'].astype('category')\n",
    "x1_test['workclass'] = x1_test['workclass'].astype('category')\n"
   ]
  },
  {
   "cell_type": "code",
   "execution_count": 5,
   "id": "27f53a13",
   "metadata": {},
   "outputs": [],
   "source": [
    "x = pd.get_dummies(x)\n",
    "x1_test = pd.get_dummies(x1_test)\n",
    "\n"
   ]
  },
  {
   "cell_type": "code",
   "execution_count": 6,
   "id": "ab4323c4",
   "metadata": {},
   "outputs": [],
   "source": [
    "from sklearn.model_selection import train_test_split #트레인과 test 비율 나눔\n",
    "from sklearn.model_selection import cross_val_score  # k-fold cross validation\n",
    "from sklearn.preprocessing import MinMaxScaler\n",
    "\n",
    "\n",
    "\n",
    "x_train,x_test,y_train,y_test = train_test_split(x,y,test_size=0.2,random_state=42)\n",
    "\n",
    "# scaler = MinMaxScaler()\n",
    "\n",
    "# x_train[['capital-gain']] = scaler.fit_transform(x_train[['capital-gain']])\n",
    "# x_test[['capital-gain']] = scaler.fit_transform(x_test[['capital-gain']])\n",
    "# x1_test[['capital-gain']] = scaler.fit_transform(x1_test[['capital-gain']])\n",
    "\n",
    "# x_train[['capital-loss']] = scaler.fit_transform(x_train[['capital-loss']])\n",
    "# x_test[['capital-loss']] = scaler.fit_transform(x_test[['capital-loss']])\n",
    "# x1_test[['capital-loss']] = scaler.fit_transform(x1_test[['capital-loss']])\n"
   ]
  },
  {
   "cell_type": "code",
   "execution_count": 7,
   "id": "966a8e36",
   "metadata": {},
   "outputs": [
    {
     "name": "stderr",
     "output_type": "stream",
     "text": [
      "c:\\Project\\AI_Source\\AI_01\\venv\\lib\\site-packages\\ipykernel_launcher.py:5: DataConversionWarning: A column-vector y was passed when a 1d array was expected. Please change the shape of y to (n_samples,), for example using ravel().\n",
      "  \"\"\"\n"
     ]
    },
    {
     "name": "stdout",
     "output_type": "stream",
     "text": [
      "0.9781607234260365\n",
      "0.8435420576693397\n"
     ]
    }
   ],
   "source": [
    "from sklearn.ensemble import RandomForestClassifier\n",
    "from sklearn.metrics import accuracy_score\n",
    "\n",
    "rf = RandomForestClassifier(random_state=42, criterion='entropy')\n",
    "rf.fit(x_train, y_train)  # 여기서 x_train은 이미 위에서 스케일링함\n",
    "\n",
    "print(rf.score(x_train, y_train))  # 훈련 데이터\n",
    "print(rf.score(x_test, y_test))  # 테스트 데이터\n",
    "\n",
    "# min_samples_leaf=5"
   ]
  },
  {
   "cell_type": "code",
   "execution_count": 8,
   "id": "a5084737",
   "metadata": {},
   "outputs": [
    {
     "name": "stdout",
     "output_type": "stream",
     "text": [
      "0.7912045725985327\n",
      "0.7807541375191946\n"
     ]
    },
    {
     "name": "stderr",
     "output_type": "stream",
     "text": [
      "c:\\Project\\AI_Source\\AI_01\\venv\\lib\\site-packages\\sklearn\\utils\\validation.py:993: DataConversionWarning: A column-vector y was passed when a 1d array was expected. Please change the shape of y to (n_samples, ), for example using ravel().\n",
      "  y = column_or_1d(y, warn=True)\n"
     ]
    }
   ],
   "source": [
    "from random import random\n",
    "from sklearn.linear_model import Perceptron\n",
    "from sklearn.metrics import accuracy_score\n",
    "ppn = Perceptron(max_iter=10000, eta0=0.1, random_state=42)\n",
    "ppn.fit(x_train, y_train)\n",
    "\n",
    "print(ppn.score(x_train, y_train))  # 훈련 데이터\n",
    "print(ppn.score(x_test, y_test))  # 테스트 데이터\n"
   ]
  },
  {
   "cell_type": "code",
   "execution_count": 9,
   "id": "1a8d2329",
   "metadata": {},
   "outputs": [
    {
     "name": "stdout",
     "output_type": "stream",
     "text": [
      "Best Estimator:\n",
      " RandomForestClassifier(max_depth=5, min_samples_leaf=2, min_samples_split=6,\n",
      "                       n_estimators=10, random_state=24)\n",
      "\n",
      "Best Params:\n",
      " {'max_depth': 5, 'min_samples_leaf': 2, 'min_samples_split': 6, 'n_estimators': 10, 'random_state': 24}\n",
      "\n",
      "Best Score:\n",
      " 0.8459737662105123\n",
      "\n"
     ]
    },
    {
     "name": "stderr",
     "output_type": "stream",
     "text": [
      "c:\\Project\\AI_Source\\AI_01\\venv\\lib\\site-packages\\sklearn\\model_selection\\_validation.py:372: FitFailedWarning: \n",
      "375 fits failed out of a total of 1500.\n",
      "The score on these train-test partitions for these parameters will be set to nan.\n",
      "If these failures are not expected, you can try to debug them by setting error_score='raise'.\n",
      "\n",
      "Below are more details about the failures:\n",
      "--------------------------------------------------------------------------------\n",
      "375 fits failed with the following error:\n",
      "Traceback (most recent call last):\n",
      "  File \"c:\\Project\\AI_Source\\AI_01\\venv\\lib\\site-packages\\sklearn\\model_selection\\_validation.py\", line 680, in _fit_and_score\n",
      "    estimator.fit(X_train, y_train, **fit_params)\n",
      "  File \"c:\\Project\\AI_Source\\AI_01\\venv\\lib\\site-packages\\sklearn\\ensemble\\_forest.py\", line 467, in fit\n",
      "    for i, t in enumerate(trees)\n",
      "  File \"c:\\Project\\AI_Source\\AI_01\\venv\\lib\\site-packages\\joblib\\parallel.py\", line 1085, in __call__\n",
      "    if self.dispatch_one_batch(iterator):\n",
      "  File \"c:\\Project\\AI_Source\\AI_01\\venv\\lib\\site-packages\\joblib\\parallel.py\", line 901, in dispatch_one_batch\n",
      "    self._dispatch(tasks)\n",
      "  File \"c:\\Project\\AI_Source\\AI_01\\venv\\lib\\site-packages\\joblib\\parallel.py\", line 819, in _dispatch\n",
      "    job = self._backend.apply_async(batch, callback=cb)\n",
      "  File \"c:\\Project\\AI_Source\\AI_01\\venv\\lib\\site-packages\\joblib\\_parallel_backends.py\", line 208, in apply_async\n",
      "    result = ImmediateResult(func)\n",
      "  File \"c:\\Project\\AI_Source\\AI_01\\venv\\lib\\site-packages\\joblib\\_parallel_backends.py\", line 597, in __init__\n",
      "    self.results = batch()\n",
      "  File \"c:\\Project\\AI_Source\\AI_01\\venv\\lib\\site-packages\\joblib\\parallel.py\", line 289, in __call__\n",
      "    for func, args, kwargs in self.items]\n",
      "  File \"c:\\Project\\AI_Source\\AI_01\\venv\\lib\\site-packages\\joblib\\parallel.py\", line 289, in <listcomp>\n",
      "    for func, args, kwargs in self.items]\n",
      "  File \"c:\\Project\\AI_Source\\AI_01\\venv\\lib\\site-packages\\sklearn\\utils\\fixes.py\", line 216, in __call__\n",
      "    return self.function(*args, **kwargs)\n",
      "  File \"c:\\Project\\AI_Source\\AI_01\\venv\\lib\\site-packages\\sklearn\\ensemble\\_forest.py\", line 185, in _parallel_build_trees\n",
      "    tree.fit(X, y, sample_weight=curr_sample_weight, check_input=False)\n",
      "  File \"c:\\Project\\AI_Source\\AI_01\\venv\\lib\\site-packages\\sklearn\\tree\\_classes.py\", line 942, in fit\n",
      "    X_idx_sorted=X_idx_sorted,\n",
      "  File \"c:\\Project\\AI_Source\\AI_01\\venv\\lib\\site-packages\\sklearn\\tree\\_classes.py\", line 244, in fit\n",
      "    % self.min_samples_leaf\n",
      "ValueError: min_samples_leaf must be at least 1 or in (0, 0.5], got 1.5\n",
      "\n",
      "  warnings.warn(some_fits_failed_message, FitFailedWarning)\n",
      "c:\\Project\\AI_Source\\AI_01\\venv\\lib\\site-packages\\sklearn\\model_selection\\_search.py:972: UserWarning: One or more of the test scores are non-finite: [0.76045037 0.76045037 0.76045037 0.76045037 0.76045037 0.76045037\n",
      " 0.76045037 0.76045037 0.76045037 0.76045037 0.76045037 0.76045037\n",
      " 0.76045037 0.76045037 0.76045037 0.78971222 0.76369221 0.76855515\n",
      " 0.78971222 0.76369221 0.76855515 0.78971222 0.76369221 0.76855515\n",
      " 0.78971222 0.76369221 0.76855515 0.78971222 0.76369221 0.76855515\n",
      "        nan        nan        nan        nan        nan        nan\n",
      "        nan        nan        nan        nan        nan        nan\n",
      "        nan        nan        nan 0.78971222 0.76369221 0.76855515\n",
      " 0.78971222 0.76369221 0.76855515 0.78971222 0.76369221 0.76855515\n",
      " 0.78971222 0.76369221 0.76855515 0.78971222 0.76369221 0.76855515\n",
      " 0.76045037 0.76045037 0.76045037 0.76045037 0.76045037 0.76045037\n",
      " 0.76045037 0.76045037 0.76045037 0.76045037 0.76045037 0.76045037\n",
      " 0.76045037 0.76045037 0.76045037 0.79619548 0.79244179 0.79611005\n",
      " 0.79619548 0.79244179 0.79611005 0.79619548 0.79244179 0.79611005\n",
      " 0.79619548 0.79244179 0.79611005 0.79619548 0.79244179 0.79611005\n",
      "        nan        nan        nan        nan        nan        nan\n",
      "        nan        nan        nan        nan        nan        nan\n",
      "        nan        nan        nan 0.79623814 0.79244179 0.79611005\n",
      " 0.79623814 0.79244179 0.79611005 0.79623814 0.79244179 0.79611005\n",
      " 0.79623814 0.79244179 0.79611005 0.79623814 0.79244179 0.79611005\n",
      " 0.76045037 0.76045037 0.76045037 0.76045037 0.76045037 0.76045037\n",
      " 0.76045037 0.76045037 0.76045037 0.76045037 0.76045037 0.76045037\n",
      " 0.76045037 0.76045037 0.76045037 0.82656578 0.81773592 0.81236135\n",
      " 0.82656578 0.81773592 0.81236135 0.82656578 0.81773592 0.81236135\n",
      " 0.82656578 0.81773592 0.81236135 0.82656578 0.81773592 0.8123187\n",
      "        nan        nan        nan        nan        nan        nan\n",
      "        nan        nan        nan        nan        nan        nan\n",
      "        nan        nan        nan 0.82656578 0.81773592 0.8123187\n",
      " 0.82656578 0.81773592 0.8123187  0.82656578 0.81773592 0.8123187\n",
      " 0.82656578 0.81773592 0.8123187  0.82656578 0.81773592 0.81236135\n",
      " 0.76045037 0.76045037 0.76045037 0.76045037 0.76045037 0.76045037\n",
      " 0.76045037 0.76045037 0.76045037 0.76045037 0.76045037 0.76045037\n",
      " 0.76045037 0.76045037 0.76045037 0.844097   0.83987399 0.83893547\n",
      " 0.84401169 0.83978869 0.83885017 0.84396904 0.83970338 0.83885017\n",
      " 0.84396904 0.83970338 0.83889282 0.84396904 0.83970338 0.83885017\n",
      "        nan        nan        nan        nan        nan        nan\n",
      "        nan        nan        nan        nan        nan        nan\n",
      "        nan        nan        nan 0.84401169 0.83987401 0.83880752\n",
      " 0.84401169 0.83987401 0.83880752 0.84401169 0.83983135 0.83880752\n",
      " 0.84401169 0.83983135 0.83880752 0.84401169 0.83978869 0.83880752\n",
      " 0.76045037 0.76045037 0.76045037 0.76045037 0.76045037 0.76045037\n",
      " 0.76045037 0.76045037 0.76045037 0.76045037 0.76045037 0.76045037\n",
      " 0.76045037 0.76045037 0.76045037 0.8449501  0.84307325 0.84349972\n",
      " 0.84584582 0.84392631 0.84358503 0.84563253 0.8432439  0.8437983\n",
      " 0.84469418 0.84332921 0.84273197 0.84469421 0.84384117 0.84230542\n",
      "        nan        nan        nan        nan        nan        nan\n",
      "        nan        nan        nan        nan        nan        nan\n",
      "        nan        nan        nan 0.84584583 0.84422489 0.84345705\n",
      " 0.84584583 0.84422489 0.84345705 0.84597377 0.84290269 0.84303044\n",
      " 0.84490744 0.84298798 0.84251862 0.84490748 0.84358525 0.84213479]\n",
      "  category=UserWarning,\n",
      "c:\\Project\\AI_Source\\AI_01\\venv\\lib\\site-packages\\sklearn\\model_selection\\_search.py:926: DataConversionWarning: A column-vector y was passed when a 1d array was expected. Please change the shape of y to (n_samples,), for example using ravel().\n",
      "  self.best_estimator_.fit(X, y, **fit_params)\n"
     ]
    }
   ],
   "source": [
    "from sklearn.model_selection import GridSearchCV\n",
    "from sklearn.model_selection import cross_val_score, KFold\n",
    "\n",
    "cv = KFold(n_splits=5, random_state=24, shuffle=True)\n",
    "estimator = RandomForestClassifier()\n",
    "params = {'n_estimators': [10, 15, 20], 'min_samples_split': [2,4,6,8,10], 'random_state': [24],\n",
    "          'min_samples_leaf': [0.5, 1, 1.5, 2], 'max_depth': [1,2,3,4,5]\n",
    "          }\n",
    "\n",
    "\n",
    "gridtree = GridSearchCV(estimator=estimator, param_grid=params,\n",
    "                        cv=cv, verbose=-1, n_jobs=-1, refit=True)\n",
    "\n",
    "gridtree.fit(x_train, y_train)\n",
    "\n",
    "print(\"Best Estimator:\\n\", gridtree.best_estimator_)\n",
    "print()\n",
    "print(\"Best Params:\\n\", gridtree.best_params_)\n",
    "print()\n",
    "print(\"Best Score:\\n\", gridtree.best_score_)\n",
    "print()\n",
    "\n"
   ]
  },
  {
   "cell_type": "code",
   "execution_count": 10,
   "id": "f413b5e6",
   "metadata": {},
   "outputs": [
    {
     "name": "stdout",
     "output_type": "stream",
     "text": [
      "0.8408548029346528\n",
      "0.8351817096058693\n"
     ]
    }
   ],
   "source": [
    "\n",
    "print(gridtree.score(x_train, y_train))\n",
    "print(gridtree.score(x_test, y_test))\n"
   ]
  },
  {
   "cell_type": "code",
   "execution_count": 11,
   "id": "2c1ad1dc",
   "metadata": {},
   "outputs": [],
   "source": [
    "# dfsubmit = pd.read_csv('./classification220926/sample_submission.csv')"
   ]
  },
  {
   "cell_type": "code",
   "execution_count": 12,
   "id": "dc656a08",
   "metadata": {},
   "outputs": [],
   "source": [
    "# dfsubmit['income'] = gridtree.predict(x1_test)\n",
    "# dfsubmit.to_csv('model04_CLA.csv',index=False)\n"
   ]
  },
  {
   "cell_type": "code",
   "execution_count": null,
   "id": "709ee6ce",
   "metadata": {},
   "outputs": [],
   "source": []
  }
 ],
 "metadata": {
  "kernelspec": {
   "display_name": "Python 3.7.9 ('venv': venv)",
   "language": "python",
   "name": "python3"
  },
  "language_info": {
   "codemirror_mode": {
    "name": "ipython",
    "version": 3
   },
   "file_extension": ".py",
   "mimetype": "text/x-python",
   "name": "python",
   "nbconvert_exporter": "python",
   "pygments_lexer": "ipython3",
   "version": "3.7.9"
  },
  "vscode": {
   "interpreter": {
    "hash": "90ac13e2ffd2fb0a306c90461e8e391bceeb8ea777ddbefad745a048bb7968fd"
   }
  }
 },
 "nbformat": 4,
 "nbformat_minor": 5
}
