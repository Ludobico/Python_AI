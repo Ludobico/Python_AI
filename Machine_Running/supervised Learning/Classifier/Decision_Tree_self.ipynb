{
 "cells": [
  {
   "cell_type": "code",
   "execution_count": 1,
   "id": "ea093fbe",
   "metadata": {},
   "outputs": [
    {
     "data": {
      "text/html": [
       "<div>\n",
       "<style scoped>\n",
       "    .dataframe tbody tr th:only-of-type {\n",
       "        vertical-align: middle;\n",
       "    }\n",
       "\n",
       "    .dataframe tbody tr th {\n",
       "        vertical-align: top;\n",
       "    }\n",
       "\n",
       "    .dataframe thead th {\n",
       "        text-align: right;\n",
       "    }\n",
       "</style>\n",
       "<table border=\"1\" class=\"dataframe\">\n",
       "  <thead>\n",
       "    <tr style=\"text-align: right;\">\n",
       "      <th></th>\n",
       "      <th>alcohol</th>\n",
       "      <th>sugar</th>\n",
       "      <th>pH</th>\n",
       "      <th>class</th>\n",
       "    </tr>\n",
       "  </thead>\n",
       "  <tbody>\n",
       "    <tr>\n",
       "      <th>0</th>\n",
       "      <td>9.4</td>\n",
       "      <td>1.9</td>\n",
       "      <td>3.51</td>\n",
       "      <td>0.0</td>\n",
       "    </tr>\n",
       "    <tr>\n",
       "      <th>1</th>\n",
       "      <td>9.8</td>\n",
       "      <td>2.6</td>\n",
       "      <td>3.20</td>\n",
       "      <td>0.0</td>\n",
       "    </tr>\n",
       "    <tr>\n",
       "      <th>2</th>\n",
       "      <td>9.8</td>\n",
       "      <td>2.3</td>\n",
       "      <td>3.26</td>\n",
       "      <td>0.0</td>\n",
       "    </tr>\n",
       "    <tr>\n",
       "      <th>3</th>\n",
       "      <td>9.8</td>\n",
       "      <td>1.9</td>\n",
       "      <td>3.16</td>\n",
       "      <td>0.0</td>\n",
       "    </tr>\n",
       "    <tr>\n",
       "      <th>4</th>\n",
       "      <td>9.4</td>\n",
       "      <td>1.9</td>\n",
       "      <td>3.51</td>\n",
       "      <td>0.0</td>\n",
       "    </tr>\n",
       "    <tr>\n",
       "      <th>...</th>\n",
       "      <td>...</td>\n",
       "      <td>...</td>\n",
       "      <td>...</td>\n",
       "      <td>...</td>\n",
       "    </tr>\n",
       "    <tr>\n",
       "      <th>6492</th>\n",
       "      <td>11.2</td>\n",
       "      <td>1.6</td>\n",
       "      <td>3.27</td>\n",
       "      <td>1.0</td>\n",
       "    </tr>\n",
       "    <tr>\n",
       "      <th>6493</th>\n",
       "      <td>9.6</td>\n",
       "      <td>8.0</td>\n",
       "      <td>3.15</td>\n",
       "      <td>1.0</td>\n",
       "    </tr>\n",
       "    <tr>\n",
       "      <th>6494</th>\n",
       "      <td>9.4</td>\n",
       "      <td>1.2</td>\n",
       "      <td>2.99</td>\n",
       "      <td>1.0</td>\n",
       "    </tr>\n",
       "    <tr>\n",
       "      <th>6495</th>\n",
       "      <td>12.8</td>\n",
       "      <td>1.1</td>\n",
       "      <td>3.34</td>\n",
       "      <td>1.0</td>\n",
       "    </tr>\n",
       "    <tr>\n",
       "      <th>6496</th>\n",
       "      <td>11.8</td>\n",
       "      <td>0.8</td>\n",
       "      <td>3.26</td>\n",
       "      <td>1.0</td>\n",
       "    </tr>\n",
       "  </tbody>\n",
       "</table>\n",
       "<p>6497 rows × 4 columns</p>\n",
       "</div>"
      ],
      "text/plain": [
       "      alcohol  sugar    pH  class\n",
       "0         9.4    1.9  3.51    0.0\n",
       "1         9.8    2.6  3.20    0.0\n",
       "2         9.8    2.3  3.26    0.0\n",
       "3         9.8    1.9  3.16    0.0\n",
       "4         9.4    1.9  3.51    0.0\n",
       "...       ...    ...   ...    ...\n",
       "6492     11.2    1.6  3.27    1.0\n",
       "6493      9.6    8.0  3.15    1.0\n",
       "6494      9.4    1.2  2.99    1.0\n",
       "6495     12.8    1.1  3.34    1.0\n",
       "6496     11.8    0.8  3.26    1.0\n",
       "\n",
       "[6497 rows x 4 columns]"
      ]
     },
     "execution_count": 1,
     "metadata": {},
     "output_type": "execute_result"
    }
   ],
   "source": [
    "import pandas as pd\n",
    "import numpy as np\n",
    "\n",
    "wine = pd.read_csv('https://bit.ly/wine_csv_data')\n",
    "wine #도수,당도,산성, class:0 = 화이트와인, class:1 = 레드와인"
   ]
  },
  {
   "cell_type": "code",
   "execution_count": 40,
   "id": "0b474f01",
   "metadata": {},
   "outputs": [
    {
     "name": "stdout",
     "output_type": "stream",
     "text": [
      "<class 'pandas.core.frame.DataFrame'>\n",
      "RangeIndex: 6497 entries, 0 to 6496\n",
      "Data columns (total 4 columns):\n",
      " #   Column   Non-Null Count  Dtype  \n",
      "---  ------   --------------  -----  \n",
      " 0   alcohol  6497 non-null   float64\n",
      " 1   sugar    6497 non-null   float64\n",
      " 2   pH       6497 non-null   float64\n",
      " 3   class    6497 non-null   float64\n",
      "dtypes: float64(4)\n",
      "memory usage: 203.2 KB\n"
     ]
    }
   ],
   "source": [
    "wine.info()\n",
    "\n",
    "data = wine[['alcohol', 'sugar', 'pH']].to_numpy() #피쳐\n",
    "target = wine['class'].to_numpy() #레이블"
   ]
  },
  {
   "cell_type": "code",
   "execution_count": 41,
   "id": "53ee0725",
   "metadata": {},
   "outputs": [
    {
     "name": "stdout",
     "output_type": "stream",
     "text": [
      "(5197, 3) (1300, 3) (5197,) (1300,)\n"
     ]
    }
   ],
   "source": [
    "from sklearn.model_selection import train_test_split #train과 test 비율을 8:2로 나눔\n",
    "\n",
    "x_train,x_test,y_train,y_test = train_test_split(data, target, test_size=0.2, random_state=42)\n",
    "print(x_train.shape, x_test.shape, y_train.shape, y_test.shape)"
   ]
  },
  {
   "cell_type": "markdown",
   "id": "7e5088a3",
   "metadata": {},
   "source": [
    "## 로지스틱 회귀 모델로 학습"
   ]
  },
  {
   "cell_type": "code",
   "execution_count": 42,
   "id": "11721a50",
   "metadata": {},
   "outputs": [
    {
     "name": "stdout",
     "output_type": "stream",
     "text": [
      "0.7794881662497595\n",
      "0.7761538461538462\n",
      "\n",
      "\n",
      "[[ 0.42688448  0.35097153 -4.06374436]] [8.48811352]\n"
     ]
    }
   ],
   "source": [
    "from sklearn.preprocessing import StandardScaler\n",
    "from sklearn.linear_model import LogisticRegression\n",
    "\n",
    "# #standard 스케일러\n",
    "# scaler = StandardScaler()\n",
    "\n",
    "# scaler.fit_transform(x_train) #fit이랑 transform 같이함\n",
    "\n",
    "#스케일러 안하니까 확률이 더 올라감\n",
    "\n",
    "lr = LogisticRegression()\n",
    "lr.fit(x_train, y_train)\n",
    "\n",
    "print(lr.score(x_train, y_train))\n",
    "print(lr.score(x_test, y_test))\n",
    "print('\\n')\n",
    "print(lr.coef_, lr.intercept_)"
   ]
  },
  {
   "cell_type": "markdown",
   "id": "b47fbe2f",
   "metadata": {},
   "source": [
    "## 결정트리 모델로 학습"
   ]
  },
  {
   "cell_type": "code",
   "execution_count": 43,
   "id": "cc1528ef",
   "metadata": {},
   "outputs": [
    {
     "name": "stdout",
     "output_type": "stream",
     "text": [
      "0.996921300750433\n",
      "0.8576923076923076\n"
     ]
    }
   ],
   "source": [
    "from sklearn.tree import DecisionTreeClassifier\n",
    "\n",
    "dt = DecisionTreeClassifier(random_state=40)\n",
    "dt.fit(x_train, y_train) #여기서 x_train은 이미 위에서 스케일링함\n",
    "\n",
    "print(dt.score(x_train, y_train)) #훈련 데이터\n",
    "print(dt.score(x_test, y_test)) #테스트 데이터"
   ]
  },
  {
   "cell_type": "markdown",
   "id": "f16fdc71",
   "metadata": {},
   "source": [
    "## GridSearchCV로 결정트리 하이퍼파라미터 튜닝"
   ]
  },
  {
   "cell_type": "code",
   "execution_count": 44,
   "id": "bef9583c",
   "metadata": {},
   "outputs": [
    {
     "name": "stdout",
     "output_type": "stream",
     "text": [
      "0.8664580554320439\n",
      "{'criterion': 'entropy', 'max_depth': None, 'max_leaf_nodes': None, 'min_samples_leaf': 1, 'min_samples_split': 2}\n",
      "\n",
      "\n",
      "0.996921300750433\n",
      "0.8507692307692307\n"
     ]
    }
   ],
   "source": [
    "from sklearn.model_selection import GridSearchCV\n",
    "\n",
    "estimator = DecisionTreeClassifier(random_state=42)\n",
    "param_grid = {'criterion':['gini','entropy'], 'max_depth':[None,2,3,4,5,6,10], 'max_leaf_nodes':[None,2,3,4,5,6,7],\n",
    "              'min_samples_split':[2,3,4,5,6], 'min_samples_leaf':[1,2,3],'splitter' : ['best', 'random'],\n",
    "              'min_weight_fraction_leaf' : [0.0, 0.1, 0.2, 0.3],'min_impurity_decrease': [0.0, 0.05, 0.1, 0.2]}\n",
    "\n",
    "gridDT = GridSearchCV(estimator=estimator, param_grid=param_grid, cv=10, n_jobs=-1)\n",
    "gridDT.fit(x_train, y_train)\n",
    "\n",
    "print(gridDT.best_score_)\n",
    "print(gridDT.best_params_)\n",
    "\n",
    "\n",
    "print('\\n')\n",
    "print(gridDT.score(x_train, y_train))\n",
    "print(gridDT.score(x_test, y_test))"
   ]
  },
  {
   "cell_type": "code",
   "execution_count": 58,
   "id": "06dba079",
   "metadata": {},
   "outputs": [
    {
     "name": "stdout",
     "output_type": "stream",
     "text": [
      "정확도: 85.08%\n"
     ]
    }
   ],
   "source": [
    "from sklearn.metrics import accuracy_score\n",
    "\n",
    "predY = gridDT.predict(x_test)\n",
    "print('정확도: {:.2f}%'.format(accuracy_score(y_test, predY)*100))"
   ]
  },
  {
   "cell_type": "code",
   "execution_count": null,
   "id": "c4b25be8",
   "metadata": {},
   "outputs": [],
   "source": []
  },
  {
   "cell_type": "code",
   "execution_count": null,
   "id": "c600f0f6",
   "metadata": {},
   "outputs": [],
   "source": []
  }
 ],
 "metadata": {
  "kernelspec": {
   "display_name": "Python 3.7.9 ('venv': venv)",
   "language": "python",
   "name": "python3"
  },
  "language_info": {
   "codemirror_mode": {
    "name": "ipython",
    "version": 3
   },
   "file_extension": ".py",
   "mimetype": "text/x-python",
   "name": "python",
   "nbconvert_exporter": "python",
   "pygments_lexer": "ipython3",
   "version": "3.7.9"
  },
  "vscode": {
   "interpreter": {
    "hash": "90ac13e2ffd2fb0a306c90461e8e391bceeb8ea777ddbefad745a048bb7968fd"
   }
  }
 },
 "nbformat": 4,
 "nbformat_minor": 5
}
